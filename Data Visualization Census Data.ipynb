{
 "cells": [
  {
   "cell_type": "markdown",
   "id": "6b71e465-e69b-46f0-9804-a8bc9872d328",
   "metadata": {},
   "source": [
    "Kayla Burge"
   ]
  },
  {
   "cell_type": "markdown",
   "id": "5e5817be-450c-4c4b-a084-202ebf70cdf6",
   "metadata": {},
   "source": [
    "The data can be found at https://www.census.gov/programs-surveys/acs/microdata/access/2019.html.\n",
    "using: \n",
    "\n",
    "FTP: file transfer protocol (getting it fromthe internet to a data science environemnt)\n",
    "SFTP (encripted, secured)"
   ]
  },
  {
   "cell_type": "code",
   "execution_count": 1,
   "id": "0150ca27-f6bf-4bf5-940a-76a5acbe269f",
   "metadata": {},
   "outputs": [],
   "source": [
    "# import packages and functions\n",
    "import pandas as pd\n",
    "import numpy as np\n",
    "import matplotlib\n",
    "import matplotlib.pyplot as plt\n",
    "import matplotlib.patches as mpatches\n",
    "import seaborn as sns\n",
    "import wget # wget will need to be installed use pip install wget\n",
    "from zipfile import ZipFile\n",
    "import plotnine\n",
    "import warnings"
   ]
  },
  {
   "cell_type": "code",
   "execution_count": 2,
   "id": "7fd4e898-3a1f-41e4-98b7-da0dcd70b158",
   "metadata": {},
   "outputs": [],
   "source": [
    "# eliminate warnings\n",
    "# https://www.geeksforgeeks.org/how-to-disable-python-warnings/#\n",
    "import warnings\n",
    "\n",
    "# Settings the warnings to be ignored \n",
    "warnings.filterwarnings('ignore') "
   ]
  },
  {
   "cell_type": "code",
   "execution_count": 3,
   "id": "c458cee8-563e-466d-b7d3-07fb7f6ba2b9",
   "metadata": {},
   "outputs": [
    {
     "name": "stdout",
     "output_type": "stream",
     "text": [
      "-1 / unknownFile Name                                             Modified             Size\n",
      "psam_p12.csv                                   2020-08-06 09:04:02    145196276\n",
      "ACS2019_PUMS_README.pdf                        2020-10-01 13:10:04       220662\n",
      "Extracting all the files now...\n",
      " Done.\n"
     ]
    }
   ],
   "source": [
    "# reading in the data from the Census Bureau\n",
    "# the file at the Census is a zipped file\n",
    "# https://www.geeksforgeeks.org/working-zip-files-python/\n",
    "# https://pythonguides.com/download-zip-file-from-url-using-python/\n",
    "zfile = 'https://www2.census.gov/programs-surveys/acs/data/pums/2019/1-Year/csv_pfl.zip'\n",
    "wget.download(zfile)\n",
    "file_name = \"csv_pfl.zip\"\n",
    "with ZipFile(file_name, 'r') as zip:\n",
    "    zip.printdir()\n",
    "    print('Extracting all the files now...')\n",
    "    zip.extractall()\n",
    "    print(' Done.')"
   ]
  },
  {
   "cell_type": "code",
   "execution_count": 4,
   "id": "28b6da60-9444-4c7c-a89d-ee3a720158a5",
   "metadata": {},
   "outputs": [
    {
     "data": {
      "text/html": [
       "<div>\n",
       "<style scoped>\n",
       "    .dataframe tbody tr th:only-of-type {\n",
       "        vertical-align: middle;\n",
       "    }\n",
       "\n",
       "    .dataframe tbody tr th {\n",
       "        vertical-align: top;\n",
       "    }\n",
       "\n",
       "    .dataframe thead th {\n",
       "        text-align: right;\n",
       "    }\n",
       "</style>\n",
       "<table border=\"1\" class=\"dataframe\">\n",
       "  <thead>\n",
       "    <tr style=\"text-align: right;\">\n",
       "      <th></th>\n",
       "      <th>RT</th>\n",
       "      <th>SERIALNO</th>\n",
       "      <th>DIVISION</th>\n",
       "      <th>SPORDER</th>\n",
       "      <th>PUMA</th>\n",
       "      <th>REGION</th>\n",
       "      <th>ST</th>\n",
       "      <th>ADJINC</th>\n",
       "      <th>PWGTP</th>\n",
       "      <th>AGEP</th>\n",
       "      <th>...</th>\n",
       "      <th>PWGTP71</th>\n",
       "      <th>PWGTP72</th>\n",
       "      <th>PWGTP73</th>\n",
       "      <th>PWGTP74</th>\n",
       "      <th>PWGTP75</th>\n",
       "      <th>PWGTP76</th>\n",
       "      <th>PWGTP77</th>\n",
       "      <th>PWGTP78</th>\n",
       "      <th>PWGTP79</th>\n",
       "      <th>PWGTP80</th>\n",
       "    </tr>\n",
       "  </thead>\n",
       "  <tbody>\n",
       "    <tr>\n",
       "      <th>0</th>\n",
       "      <td>P</td>\n",
       "      <td>2019GQ0000016</td>\n",
       "      <td>5</td>\n",
       "      <td>1</td>\n",
       "      <td>8500</td>\n",
       "      <td>3</td>\n",
       "      <td>12</td>\n",
       "      <td>1010145</td>\n",
       "      <td>32</td>\n",
       "      <td>33</td>\n",
       "      <td>...</td>\n",
       "      <td>32</td>\n",
       "      <td>32</td>\n",
       "      <td>60</td>\n",
       "      <td>30</td>\n",
       "      <td>5</td>\n",
       "      <td>6</td>\n",
       "      <td>5</td>\n",
       "      <td>32</td>\n",
       "      <td>32</td>\n",
       "      <td>60</td>\n",
       "    </tr>\n",
       "    <tr>\n",
       "      <th>1</th>\n",
       "      <td>P</td>\n",
       "      <td>2019GQ0000017</td>\n",
       "      <td>5</td>\n",
       "      <td>1</td>\n",
       "      <td>1104</td>\n",
       "      <td>3</td>\n",
       "      <td>12</td>\n",
       "      <td>1010145</td>\n",
       "      <td>13</td>\n",
       "      <td>56</td>\n",
       "      <td>...</td>\n",
       "      <td>12</td>\n",
       "      <td>12</td>\n",
       "      <td>12</td>\n",
       "      <td>1</td>\n",
       "      <td>13</td>\n",
       "      <td>23</td>\n",
       "      <td>12</td>\n",
       "      <td>24</td>\n",
       "      <td>25</td>\n",
       "      <td>12</td>\n",
       "    </tr>\n",
       "    <tr>\n",
       "      <th>2</th>\n",
       "      <td>P</td>\n",
       "      <td>2019GQ0000030</td>\n",
       "      <td>5</td>\n",
       "      <td>1</td>\n",
       "      <td>5701</td>\n",
       "      <td>3</td>\n",
       "      <td>12</td>\n",
       "      <td>1010145</td>\n",
       "      <td>20</td>\n",
       "      <td>33</td>\n",
       "      <td>...</td>\n",
       "      <td>21</td>\n",
       "      <td>0</td>\n",
       "      <td>0</td>\n",
       "      <td>20</td>\n",
       "      <td>21</td>\n",
       "      <td>0</td>\n",
       "      <td>43</td>\n",
       "      <td>22</td>\n",
       "      <td>44</td>\n",
       "      <td>21</td>\n",
       "    </tr>\n",
       "    <tr>\n",
       "      <th>3</th>\n",
       "      <td>P</td>\n",
       "      <td>2019GQ0000040</td>\n",
       "      <td>5</td>\n",
       "      <td>1</td>\n",
       "      <td>101</td>\n",
       "      <td>3</td>\n",
       "      <td>12</td>\n",
       "      <td>1010145</td>\n",
       "      <td>45</td>\n",
       "      <td>19</td>\n",
       "      <td>...</td>\n",
       "      <td>47</td>\n",
       "      <td>87</td>\n",
       "      <td>45</td>\n",
       "      <td>89</td>\n",
       "      <td>48</td>\n",
       "      <td>45</td>\n",
       "      <td>7</td>\n",
       "      <td>47</td>\n",
       "      <td>47</td>\n",
       "      <td>48</td>\n",
       "    </tr>\n",
       "    <tr>\n",
       "      <th>4</th>\n",
       "      <td>P</td>\n",
       "      <td>2019GQ0000045</td>\n",
       "      <td>5</td>\n",
       "      <td>1</td>\n",
       "      <td>8620</td>\n",
       "      <td>3</td>\n",
       "      <td>12</td>\n",
       "      <td>1010145</td>\n",
       "      <td>48</td>\n",
       "      <td>48</td>\n",
       "      <td>...</td>\n",
       "      <td>51</td>\n",
       "      <td>47</td>\n",
       "      <td>48</td>\n",
       "      <td>50</td>\n",
       "      <td>90</td>\n",
       "      <td>0</td>\n",
       "      <td>50</td>\n",
       "      <td>48</td>\n",
       "      <td>50</td>\n",
       "      <td>1</td>\n",
       "    </tr>\n",
       "  </tbody>\n",
       "</table>\n",
       "<p>5 rows × 288 columns</p>\n",
       "</div>"
      ],
      "text/plain": [
       "  RT       SERIALNO  DIVISION  SPORDER  PUMA  REGION  ST   ADJINC  PWGTP  \\\n",
       "0  P  2019GQ0000016         5        1  8500       3  12  1010145     32   \n",
       "1  P  2019GQ0000017         5        1  1104       3  12  1010145     13   \n",
       "2  P  2019GQ0000030         5        1  5701       3  12  1010145     20   \n",
       "3  P  2019GQ0000040         5        1   101       3  12  1010145     45   \n",
       "4  P  2019GQ0000045         5        1  8620       3  12  1010145     48   \n",
       "\n",
       "   AGEP  ...  PWGTP71  PWGTP72  PWGTP73  PWGTP74  PWGTP75  PWGTP76  PWGTP77  \\\n",
       "0    33  ...       32       32       60       30        5        6        5   \n",
       "1    56  ...       12       12       12        1       13       23       12   \n",
       "2    33  ...       21        0        0       20       21        0       43   \n",
       "3    19  ...       47       87       45       89       48       45        7   \n",
       "4    48  ...       51       47       48       50       90        0       50   \n",
       "\n",
       "   PWGTP78  PWGTP79  PWGTP80  \n",
       "0       32       32       60  \n",
       "1       24       25       12  \n",
       "2       22       44       21  \n",
       "3       47       47       48  \n",
       "4       48       50        1  \n",
       "\n",
       "[5 rows x 288 columns]"
      ]
     },
     "execution_count": 4,
     "metadata": {},
     "output_type": "execute_result"
    }
   ],
   "source": [
    "# read the csv file into a pandas data frame\n",
    "df = pd.read_csv('psam_p12.csv')\n",
    "df.head()"
   ]
  },
  {
   "cell_type": "code",
   "execution_count": 5,
   "id": "5ed06a08-c904-4e10-bfce-da1cae708096",
   "metadata": {},
   "outputs": [
    {
     "name": "stdout",
     "output_type": "stream",
     "text": [
      "DIVISION       5.000000\n",
      "SPORDER        1.970895\n",
      "PUMA        7126.471631\n",
      "REGION         3.000000\n",
      "ST            12.000000\n",
      "               ...     \n",
      "PWGTP76      104.619409\n",
      "PWGTP77      104.619409\n",
      "PWGTP78      104.619409\n",
      "PWGTP79      104.619409\n",
      "PWGTP80      104.619409\n",
      "Length: 284, dtype: float64\n"
     ]
    }
   ],
   "source": [
    "# you can get the numeric mean of each numeric column using the .mean function \n",
    "print(df.mean(numeric_only=True))"
   ]
  },
  {
   "cell_type": "code",
   "execution_count": 6,
   "id": "bf9ac5c0-a989-45c8-9f30-5fd86a11d65e",
   "metadata": {},
   "outputs": [
    {
     "data": {
      "text/plain": [
       "205294"
      ]
     },
     "execution_count": 6,
     "metadata": {},
     "output_type": "execute_result"
    }
   ],
   "source": [
    "# how many rows?\n",
    "len(df)"
   ]
  },
  {
   "cell_type": "code",
   "execution_count": 7,
   "id": "f0165b9d-ddde-4a3a-902b-a2d034eb9025",
   "metadata": {},
   "outputs": [
    {
     "data": {
      "text/plain": [
       "RT          object\n",
       "SERIALNO    object\n",
       "DIVISION     int64\n",
       "SPORDER      int64\n",
       "PUMA         int64\n",
       "             ...  \n",
       "PWGTP76      int64\n",
       "PWGTP77      int64\n",
       "PWGTP78      int64\n",
       "PWGTP79      int64\n",
       "PWGTP80      int64\n",
       "Length: 288, dtype: object"
      ]
     },
     "execution_count": 7,
     "metadata": {},
     "output_type": "execute_result"
    }
   ],
   "source": [
    "df.dtypes"
   ]
  },
  {
   "cell_type": "code",
   "execution_count": 8,
   "id": "f3fec72c-1308-4f8d-be98-2843789c86d1",
   "metadata": {},
   "outputs": [
    {
     "data": {
      "text/html": [
       "<div>\n",
       "<style scoped>\n",
       "    .dataframe tbody tr th:only-of-type {\n",
       "        vertical-align: middle;\n",
       "    }\n",
       "\n",
       "    .dataframe tbody tr th {\n",
       "        vertical-align: top;\n",
       "    }\n",
       "\n",
       "    .dataframe thead th {\n",
       "        text-align: right;\n",
       "    }\n",
       "</style>\n",
       "<table border=\"1\" class=\"dataframe\">\n",
       "  <thead>\n",
       "    <tr style=\"text-align: right;\">\n",
       "      <th></th>\n",
       "      <th>RT</th>\n",
       "      <th>SERIALNO</th>\n",
       "      <th>DIVISION</th>\n",
       "      <th>SPORDER</th>\n",
       "      <th>PUMA</th>\n",
       "      <th>REGION</th>\n",
       "      <th>ST</th>\n",
       "      <th>ADJINC</th>\n",
       "      <th>PWGTP</th>\n",
       "      <th>AGEP</th>\n",
       "      <th>...</th>\n",
       "      <th>PWGTP71</th>\n",
       "      <th>PWGTP72</th>\n",
       "      <th>PWGTP73</th>\n",
       "      <th>PWGTP74</th>\n",
       "      <th>PWGTP75</th>\n",
       "      <th>PWGTP76</th>\n",
       "      <th>PWGTP77</th>\n",
       "      <th>PWGTP78</th>\n",
       "      <th>PWGTP79</th>\n",
       "      <th>PWGTP80</th>\n",
       "    </tr>\n",
       "  </thead>\n",
       "  <tbody>\n",
       "    <tr>\n",
       "      <th>45</th>\n",
       "      <td>P</td>\n",
       "      <td>2019GQ0000836</td>\n",
       "      <td>5</td>\n",
       "      <td>1</td>\n",
       "      <td>903</td>\n",
       "      <td>3</td>\n",
       "      <td>12</td>\n",
       "      <td>1010145</td>\n",
       "      <td>57</td>\n",
       "      <td>80</td>\n",
       "      <td>...</td>\n",
       "      <td>60</td>\n",
       "      <td>109</td>\n",
       "      <td>61</td>\n",
       "      <td>54</td>\n",
       "      <td>108</td>\n",
       "      <td>57</td>\n",
       "      <td>5</td>\n",
       "      <td>113</td>\n",
       "      <td>111</td>\n",
       "      <td>113</td>\n",
       "    </tr>\n",
       "    <tr>\n",
       "      <th>211</th>\n",
       "      <td>P</td>\n",
       "      <td>2019GQ0003862</td>\n",
       "      <td>5</td>\n",
       "      <td>1</td>\n",
       "      <td>903</td>\n",
       "      <td>3</td>\n",
       "      <td>12</td>\n",
       "      <td>1010145</td>\n",
       "      <td>87</td>\n",
       "      <td>20</td>\n",
       "      <td>...</td>\n",
       "      <td>166</td>\n",
       "      <td>89</td>\n",
       "      <td>14</td>\n",
       "      <td>165</td>\n",
       "      <td>87</td>\n",
       "      <td>162</td>\n",
       "      <td>90</td>\n",
       "      <td>13</td>\n",
       "      <td>91</td>\n",
       "      <td>13</td>\n",
       "    </tr>\n",
       "    <tr>\n",
       "      <th>349</th>\n",
       "      <td>P</td>\n",
       "      <td>2019GQ0006446</td>\n",
       "      <td>5</td>\n",
       "      <td>1</td>\n",
       "      <td>903</td>\n",
       "      <td>3</td>\n",
       "      <td>12</td>\n",
       "      <td>1010145</td>\n",
       "      <td>77</td>\n",
       "      <td>80</td>\n",
       "      <td>...</td>\n",
       "      <td>79</td>\n",
       "      <td>76</td>\n",
       "      <td>6</td>\n",
       "      <td>72</td>\n",
       "      <td>75</td>\n",
       "      <td>144</td>\n",
       "      <td>152</td>\n",
       "      <td>6</td>\n",
       "      <td>6</td>\n",
       "      <td>6</td>\n",
       "    </tr>\n",
       "    <tr>\n",
       "      <th>380</th>\n",
       "      <td>P</td>\n",
       "      <td>2019GQ0006926</td>\n",
       "      <td>5</td>\n",
       "      <td>1</td>\n",
       "      <td>903</td>\n",
       "      <td>3</td>\n",
       "      <td>12</td>\n",
       "      <td>1010145</td>\n",
       "      <td>42</td>\n",
       "      <td>19</td>\n",
       "      <td>...</td>\n",
       "      <td>41</td>\n",
       "      <td>41</td>\n",
       "      <td>39</td>\n",
       "      <td>41</td>\n",
       "      <td>6</td>\n",
       "      <td>42</td>\n",
       "      <td>78</td>\n",
       "      <td>8</td>\n",
       "      <td>42</td>\n",
       "      <td>8</td>\n",
       "    </tr>\n",
       "    <tr>\n",
       "      <th>441</th>\n",
       "      <td>P</td>\n",
       "      <td>2019GQ0008238</td>\n",
       "      <td>5</td>\n",
       "      <td>1</td>\n",
       "      <td>903</td>\n",
       "      <td>3</td>\n",
       "      <td>12</td>\n",
       "      <td>1010145</td>\n",
       "      <td>70</td>\n",
       "      <td>22</td>\n",
       "      <td>...</td>\n",
       "      <td>135</td>\n",
       "      <td>71</td>\n",
       "      <td>11</td>\n",
       "      <td>11</td>\n",
       "      <td>71</td>\n",
       "      <td>70</td>\n",
       "      <td>73</td>\n",
       "      <td>73</td>\n",
       "      <td>74</td>\n",
       "      <td>130</td>\n",
       "    </tr>\n",
       "  </tbody>\n",
       "</table>\n",
       "<p>5 rows × 288 columns</p>\n",
       "</div>"
      ],
      "text/plain": [
       "    RT       SERIALNO  DIVISION  SPORDER  PUMA  REGION  ST   ADJINC  PWGTP  \\\n",
       "45   P  2019GQ0000836         5        1   903       3  12  1010145     57   \n",
       "211  P  2019GQ0003862         5        1   903       3  12  1010145     87   \n",
       "349  P  2019GQ0006446         5        1   903       3  12  1010145     77   \n",
       "380  P  2019GQ0006926         5        1   903       3  12  1010145     42   \n",
       "441  P  2019GQ0008238         5        1   903       3  12  1010145     70   \n",
       "\n",
       "     AGEP  ...  PWGTP71  PWGTP72  PWGTP73  PWGTP74  PWGTP75  PWGTP76  PWGTP77  \\\n",
       "45     80  ...       60      109       61       54      108       57        5   \n",
       "211    20  ...      166       89       14      165       87      162       90   \n",
       "349    80  ...       79       76        6       72       75      144      152   \n",
       "380    19  ...       41       41       39       41        6       42       78   \n",
       "441    22  ...      135       71       11       11       71       70       73   \n",
       "\n",
       "     PWGTP78  PWGTP79  PWGTP80  \n",
       "45       113      111      113  \n",
       "211       13       91       13  \n",
       "349        6        6        6  \n",
       "380        8       42        8  \n",
       "441       73       74      130  \n",
       "\n",
       "[5 rows x 288 columns]"
      ]
     },
     "execution_count": 8,
     "metadata": {},
     "output_type": "execute_result"
    }
   ],
   "source": [
    "# subset the data to just Melbourne/West Melbourne observations\n",
    "# https://www.census.gov/geographies/reference-maps/2010/geo/2010-pumas/florida.html\n",
    "# Gainesville is PUMA 00903. This is a numeric, so drop the leading zeros.\n",
    "melb = df[df[\"PUMA\"]==903]\n",
    "melb.head()"
   ]
  },
  {
   "cell_type": "code",
   "execution_count": 9,
   "id": "5ba2b69d-a1e0-45ca-9180-e9da3e794e75",
   "metadata": {},
   "outputs": [
    {
     "data": {
      "text/plain": [
       "(1230, 288)"
      ]
     },
     "execution_count": 9,
     "metadata": {},
     "output_type": "execute_result"
    }
   ],
   "source": [
    "# shape of the melb data frame (rows, columns)\n",
    "melb.shape"
   ]
  },
  {
   "cell_type": "code",
   "execution_count": 10,
   "id": "01bf84f6-7f8b-41b7-9424-280711a28755",
   "metadata": {},
   "outputs": [
    {
     "data": {
      "text/plain": [
       "CIT\n",
       "1    1078\n",
       "4      68\n",
       "2      36\n",
       "5      30\n",
       "3      18\n",
       "Name: count, dtype: int64"
      ]
     },
     "execution_count": 10,
     "metadata": {},
     "output_type": "execute_result"
    }
   ],
   "source": [
    "# the CIT variable represents the citizenship categories of the PUMS Person Survey\n",
    "# https://www2.census.gov/programs-surveys/acs/tech_docs/pums/data_dict/PUMS_Data_Dictionary_2019.pdf\n",
    "# https://www.marsja.se/pandas-count-occurrences-in-column-unique-values/\n",
    "melb['CIT'].value_counts().sort_values(ascending=False)"
   ]
  },
  {
   "cell_type": "code",
   "execution_count": 11,
   "id": "f1fae01e-0485-4327-974a-e754de143521",
   "metadata": {},
   "outputs": [
    {
     "data": {
      "text/plain": [
       "CIT\n",
       "1    1078\n",
       "4      68\n",
       "2      36\n",
       "5      30\n",
       "3      18\n",
       "Name: count, dtype: int64"
      ]
     },
     "execution_count": 11,
     "metadata": {},
     "output_type": "execute_result"
    }
   ],
   "source": [
    "# change the result into a series\n",
    "cit = melb['CIT'].value_counts().sort_values(ascending=False)\n",
    "cit"
   ]
  },
  {
   "cell_type": "code",
   "execution_count": 12,
   "id": "951ea029-adf5-41f2-be07-39402b161737",
   "metadata": {},
   "outputs": [
    {
     "name": "stdout",
     "output_type": "stream",
     "text": [
      "CIT\n",
      "1    1078\n",
      "4      68\n",
      "2      36\n",
      "5      30\n",
      "3      18\n",
      "Name: count, dtype: int64\n"
     ]
    }
   ],
   "source": [
    "ser = pd.Series(cit)\n",
    "print(ser)"
   ]
  },
  {
   "cell_type": "code",
   "execution_count": 13,
   "id": "f6f5528a-b138-489f-85ee-a9b9a83bfbd0",
   "metadata": {},
   "outputs": [
    {
     "data": {
      "text/html": [
       "<div>\n",
       "<style scoped>\n",
       "    .dataframe tbody tr th:only-of-type {\n",
       "        vertical-align: middle;\n",
       "    }\n",
       "\n",
       "    .dataframe tbody tr th {\n",
       "        vertical-align: top;\n",
       "    }\n",
       "\n",
       "    .dataframe thead th {\n",
       "        text-align: right;\n",
       "    }\n",
       "</style>\n",
       "<table border=\"1\" class=\"dataframe\">\n",
       "  <thead>\n",
       "    <tr style=\"text-align: right;\">\n",
       "      <th></th>\n",
       "      <th>WAGP</th>\n",
       "      <th>CIT</th>\n",
       "    </tr>\n",
       "  </thead>\n",
       "  <tbody>\n",
       "    <tr>\n",
       "      <th>45</th>\n",
       "      <td>0.0</td>\n",
       "      <td>1</td>\n",
       "    </tr>\n",
       "    <tr>\n",
       "      <th>211</th>\n",
       "      <td>0.0</td>\n",
       "      <td>5</td>\n",
       "    </tr>\n",
       "    <tr>\n",
       "      <th>349</th>\n",
       "      <td>0.0</td>\n",
       "      <td>1</td>\n",
       "    </tr>\n",
       "    <tr>\n",
       "      <th>380</th>\n",
       "      <td>3300.0</td>\n",
       "      <td>1</td>\n",
       "    </tr>\n",
       "    <tr>\n",
       "      <th>441</th>\n",
       "      <td>8000.0</td>\n",
       "      <td>1</td>\n",
       "    </tr>\n",
       "  </tbody>\n",
       "</table>\n",
       "</div>"
      ],
      "text/plain": [
       "       WAGP  CIT\n",
       "45      0.0    1\n",
       "211     0.0    5\n",
       "349     0.0    1\n",
       "380  3300.0    1\n",
       "441  8000.0    1"
      ]
     },
     "execution_count": 13,
     "metadata": {},
     "output_type": "execute_result"
    }
   ],
   "source": [
    "# https://sparkbyexamples.com/pandas/pandas-create-new-dataframe-by-selecting-specific-columns/\n",
    "# Using DataFrame.copy() create new DaraFrame.\n",
    "\n",
    "df1 = melb[['WAGP', 'CIT']].copy()\n",
    "df1.head()"
   ]
  },
  {
   "cell_type": "code",
   "execution_count": 14,
   "id": "f9bc9d6d-0f3b-4759-bac4-90046a82f406",
   "metadata": {},
   "outputs": [
    {
     "data": {
      "text/html": [
       "<div>\n",
       "<style scoped>\n",
       "    .dataframe tbody tr th:only-of-type {\n",
       "        vertical-align: middle;\n",
       "    }\n",
       "\n",
       "    .dataframe tbody tr th {\n",
       "        vertical-align: top;\n",
       "    }\n",
       "\n",
       "    .dataframe thead th {\n",
       "        text-align: right;\n",
       "    }\n",
       "</style>\n",
       "<table border=\"1\" class=\"dataframe\">\n",
       "  <thead>\n",
       "    <tr style=\"text-align: right;\">\n",
       "      <th></th>\n",
       "      <th>WAGP</th>\n",
       "      <th>CIT</th>\n",
       "    </tr>\n",
       "  </thead>\n",
       "  <tbody>\n",
       "    <tr>\n",
       "      <th>45</th>\n",
       "      <td>0.0</td>\n",
       "      <td>1</td>\n",
       "    </tr>\n",
       "    <tr>\n",
       "      <th>211</th>\n",
       "      <td>0.0</td>\n",
       "      <td>5</td>\n",
       "    </tr>\n",
       "    <tr>\n",
       "      <th>349</th>\n",
       "      <td>0.0</td>\n",
       "      <td>1</td>\n",
       "    </tr>\n",
       "    <tr>\n",
       "      <th>380</th>\n",
       "      <td>3300.0</td>\n",
       "      <td>1</td>\n",
       "    </tr>\n",
       "    <tr>\n",
       "      <th>441</th>\n",
       "      <td>8000.0</td>\n",
       "      <td>1</td>\n",
       "    </tr>\n",
       "    <tr>\n",
       "      <th>538</th>\n",
       "      <td>0.0</td>\n",
       "      <td>1</td>\n",
       "    </tr>\n",
       "    <tr>\n",
       "      <th>545</th>\n",
       "      <td>30000.0</td>\n",
       "      <td>1</td>\n",
       "    </tr>\n",
       "    <tr>\n",
       "      <th>583</th>\n",
       "      <td>14000.0</td>\n",
       "      <td>1</td>\n",
       "    </tr>\n",
       "    <tr>\n",
       "      <th>644</th>\n",
       "      <td>0.0</td>\n",
       "      <td>1</td>\n",
       "    </tr>\n",
       "    <tr>\n",
       "      <th>798</th>\n",
       "      <td>3000.0</td>\n",
       "      <td>1</td>\n",
       "    </tr>\n",
       "    <tr>\n",
       "      <th>1095</th>\n",
       "      <td>0.0</td>\n",
       "      <td>5</td>\n",
       "    </tr>\n",
       "    <tr>\n",
       "      <th>1103</th>\n",
       "      <td>3300.0</td>\n",
       "      <td>1</td>\n",
       "    </tr>\n",
       "    <tr>\n",
       "      <th>1143</th>\n",
       "      <td>0.0</td>\n",
       "      <td>1</td>\n",
       "    </tr>\n",
       "    <tr>\n",
       "      <th>1448</th>\n",
       "      <td>0.0</td>\n",
       "      <td>5</td>\n",
       "    </tr>\n",
       "    <tr>\n",
       "      <th>1464</th>\n",
       "      <td>0.0</td>\n",
       "      <td>1</td>\n",
       "    </tr>\n",
       "    <tr>\n",
       "      <th>1612</th>\n",
       "      <td>12000.0</td>\n",
       "      <td>1</td>\n",
       "    </tr>\n",
       "    <tr>\n",
       "      <th>1713</th>\n",
       "      <td>3000.0</td>\n",
       "      <td>1</td>\n",
       "    </tr>\n",
       "    <tr>\n",
       "      <th>2258</th>\n",
       "      <td>8000.0</td>\n",
       "      <td>3</td>\n",
       "    </tr>\n",
       "    <tr>\n",
       "      <th>2320</th>\n",
       "      <td>0.0</td>\n",
       "      <td>1</td>\n",
       "    </tr>\n",
       "    <tr>\n",
       "      <th>2433</th>\n",
       "      <td>0.0</td>\n",
       "      <td>1</td>\n",
       "    </tr>\n",
       "  </tbody>\n",
       "</table>\n",
       "</div>"
      ],
      "text/plain": [
       "         WAGP  CIT\n",
       "45        0.0    1\n",
       "211       0.0    5\n",
       "349       0.0    1\n",
       "380    3300.0    1\n",
       "441    8000.0    1\n",
       "538       0.0    1\n",
       "545   30000.0    1\n",
       "583   14000.0    1\n",
       "644       0.0    1\n",
       "798    3000.0    1\n",
       "1095      0.0    5\n",
       "1103   3300.0    1\n",
       "1143      0.0    1\n",
       "1448      0.0    5\n",
       "1464      0.0    1\n",
       "1612  12000.0    1\n",
       "1713   3000.0    1\n",
       "2258   8000.0    3\n",
       "2320      0.0    1\n",
       "2433      0.0    1"
      ]
     },
     "execution_count": 14,
     "metadata": {},
     "output_type": "execute_result"
    }
   ],
   "source": [
    "df1.fillna(0, inplace=True)\n",
    "df1.head(20)"
   ]
  },
  {
   "cell_type": "code",
   "execution_count": 15,
   "id": "ab50ff70-3d9b-40c4-b7c6-3a0ed766825a",
   "metadata": {},
   "outputs": [
    {
     "data": {
      "text/plain": [
       "(1230, 2)"
      ]
     },
     "execution_count": 15,
     "metadata": {},
     "output_type": "execute_result"
    }
   ],
   "source": [
    "df1.shape"
   ]
  },
  {
   "cell_type": "code",
   "execution_count": 16,
   "id": "23e07f37-53f8-45e7-8a37-663f4efbb756",
   "metadata": {},
   "outputs": [
    {
     "data": {
      "text/plain": [
       "<Axes: xlabel='CIT', ylabel='WAGP'>"
      ]
     },
     "execution_count": 16,
     "metadata": {},
     "output_type": "execute_result"
    },
    {
     "data": {
      "image/png": "[encoded data removed]",
      "text/plain": [
       "<Figure size 640x480 with 1 Axes>"
      ]
     },
     "metadata": {},
     "output_type": "display_data"
    }
   ],
   "source": [
    "# citizenship status by wages\n",
    "sns.boxplot( x=df1[\"CIT\"], y=df1[\"WAGP\"] )"
   ]
  },
  {
   "cell_type": "code",
   "execution_count": 17,
   "id": "a077be5e-cd34-4c5d-8dd2-8209317ed23d",
   "metadata": {},
   "outputs": [
    {
     "data": {
      "text/plain": [
       "[Text(0, 0.0, '0'),\n",
       " Text(0, 25000.0, '25,000'),\n",
       " Text(0, 50000.0, '50,000'),\n",
       " Text(0, 75000.0, '75,000'),\n",
       " Text(0, 100000.0, '100,000'),\n",
       " Text(0, 125000.0, '125,000'),\n",
       " Text(0, 150000.0, '150,000'),\n",
       " Text(0, 175000.0, '175,000'),\n",
       " Text(0, 200000.0, '200,000')]"
      ]
     },
     "execution_count": 17,
     "metadata": {},
     "output_type": "execute_result"
    },
    {
     "data": {
      "image/png": "[encoded data removed]",
      "text/plain": [
       "<Figure size 640x480 with 1 Axes>"
      ]
     },
     "metadata": {},
     "output_type": "display_data"
    }
   ],
   "source": [
    "sns.boxplot( x=df1[\"CIT\"], y=df1[\"WAGP\"] )\n",
    "# limit the y axis for the super long outliers\n",
    "plt.ylim([0, 200000])\n",
    "\n",
    "current_values = plt.gca().get_yticks()\n",
    "plt.gca().set_yticklabels(['{:,.0f}'.format(x) for x in current_values])"
   ]
  },
  {
   "cell_type": "code",
   "execution_count": 18,
   "id": "1c5dc5cf-9311-4cf1-befc-35c166198d87",
   "metadata": {},
   "outputs": [
    {
     "data": {
      "text/plain": [
       "[Text(0, 0.0, '0'),\n",
       " Text(0, 25000.0, '25,000'),\n",
       " Text(0, 50000.0, '50,000'),\n",
       " Text(0, 75000.0, '75,000'),\n",
       " Text(0, 100000.0, '100,000'),\n",
       " Text(0, 125000.0, '125,000'),\n",
       " Text(0, 150000.0, '150,000'),\n",
       " Text(0, 175000.0, '175,000'),\n",
       " Text(0, 200000.0, '200,000')]"
      ]
     },
     "execution_count": 18,
     "metadata": {},
     "output_type": "execute_result"
    },
    {
     "data": {
      "image/png": "[encoded data removed]",
      "text/plain": [
       "<Figure size 640x480 with 1 Axes>"
      ]
     },
     "metadata": {},
     "output_type": "display_data"
    }
   ],
   "source": [
    "sns.boxplot( x=df1[\"CIT\"], y=df1[\"WAGP\"] )\n",
    "# limit the y axis for the super long outliers\n",
    "plt.ylim([0, 200000])\n",
    "\n",
    "current_values = plt.gca().get_yticks()\n",
    "plt.gca().set_yticklabels(['{:,.0f}'.format(x) for x in current_values])"
   ]
  },
  {
   "cell_type": "code",
   "execution_count": 19,
   "id": "bb1beb48-3c87-4e5d-b385-5d145f854d53",
   "metadata": {},
   "outputs": [
    {
     "data": {
      "image/png": "[encoded data removed]",
      "text/plain": [
       "<Figure size 640x480 with 1 Axes>"
      ]
     },
     "metadata": {},
     "output_type": "display_data"
    }
   ],
   "source": [
    "#add axis labels and a title to the graph\n",
    "sns.boxplot( x=df1[\"CIT\"], y=df1[\"WAGP\"] )\n",
    "# add plot labels\n",
    "plt.xlabel('Citizenship Status')\n",
    "plt.ylabel('Wages')\n",
    "plt.title('Comparison of Wages by Citizenship Status')\n",
    "\n",
    "plt.ylim([0, 200000])\n",
    "current_values = plt.gca().get_yticks()\n",
    "plt.gca().set_yticklabels(['{:,.0f}'.format(x) for x in current_values])\n",
    "plt.show()"
   ]
  },
  {
   "cell_type": "code",
   "execution_count": 20,
   "id": "90b943be-0d28-478f-8f45-b3bce5e495f3",
   "metadata": {},
   "outputs": [
    {
     "data": {
      "text/plain": [
       "WAGP     float64\n",
       "CIT     category\n",
       "dtype: object"
      ]
     },
     "execution_count": 20,
     "metadata": {},
     "output_type": "execute_result"
    }
   ],
   "source": [
    "# https://www.datasciencemadesimple.com/convert-column-to-categorical-pandas-python-2/\n",
    "df1['CIT'] = pd.Categorical(df1.CIT)\n",
    "df1.dtypes"
   ]
  },
  {
   "cell_type": "code",
   "execution_count": 21,
   "id": "51cd3dc6-3428-4248-8d06-b25d91cafb49",
   "metadata": {},
   "outputs": [
    {
     "data": {
      "text/plain": [
       "CIT\n",
       "1    1078\n",
       "4      68\n",
       "2      36\n",
       "5      30\n",
       "3      18\n",
       "Name: count, dtype: int64"
      ]
     },
     "execution_count": 21,
     "metadata": {},
     "output_type": "execute_result"
    }
   ],
   "source": [
    "# count the number of observations by category in the COW variable\n",
    "df1[\"CIT\"].value_counts()"
   ]
  },
  {
   "cell_type": "code",
   "execution_count": 22,
   "id": "4427da49-0293-468b-883d-14283f5cf3b3",
   "metadata": {},
   "outputs": [
    {
     "data": {
      "text/html": [
       "<div>\n",
       "<style scoped>\n",
       "    .dataframe tbody tr th:only-of-type {\n",
       "        vertical-align: middle;\n",
       "    }\n",
       "\n",
       "    .dataframe tbody tr th {\n",
       "        vertical-align: top;\n",
       "    }\n",
       "\n",
       "    .dataframe thead th {\n",
       "        text-align: right;\n",
       "    }\n",
       "</style>\n",
       "<table border=\"1\" class=\"dataframe\">\n",
       "  <thead>\n",
       "    <tr style=\"text-align: right;\">\n",
       "      <th></th>\n",
       "      <th>WAGP</th>\n",
       "      <th>CIT</th>\n",
       "    </tr>\n",
       "  </thead>\n",
       "  <tbody>\n",
       "    <tr>\n",
       "      <th>45</th>\n",
       "      <td>0.0</td>\n",
       "      <td>Born in the U.S.</td>\n",
       "    </tr>\n",
       "    <tr>\n",
       "      <th>211</th>\n",
       "      <td>0.0</td>\n",
       "      <td>Not a citizen</td>\n",
       "    </tr>\n",
       "    <tr>\n",
       "      <th>349</th>\n",
       "      <td>0.0</td>\n",
       "      <td>Born in the U.S.</td>\n",
       "    </tr>\n",
       "    <tr>\n",
       "      <th>380</th>\n",
       "      <td>3300.0</td>\n",
       "      <td>Born in the U.S.</td>\n",
       "    </tr>\n",
       "    <tr>\n",
       "      <th>441</th>\n",
       "      <td>8000.0</td>\n",
       "      <td>Born in the U.S.</td>\n",
       "    </tr>\n",
       "  </tbody>\n",
       "</table>\n",
       "</div>"
      ],
      "text/plain": [
       "       WAGP               CIT\n",
       "45      0.0  Born in the U.S.\n",
       "211     0.0     Not a citizen\n",
       "349     0.0  Born in the U.S.\n",
       "380  3300.0  Born in the U.S.\n",
       "441  8000.0  Born in the U.S."
      ]
     },
     "execution_count": 22,
     "metadata": {},
     "output_type": "execute_result"
    }
   ],
   "source": [
    "# https://pbpython.com/categorical-encoding.html\n",
    "CITCat = {\"CIT\":     {1: \"Born in the U.S.\", 2 : \"Born in U.S. Islands\" , 3:\"Born abroad\", 4: \"U.S. citizen by naturalization\", 5: \"Not a citizen\",\n",
    "                     }}\n",
    "df1 = df1.replace(CITCat)\n",
    "df1.head()"
   ]
  },
  {
   "cell_type": "code",
   "execution_count": 23,
   "id": "bd33e9b9-f038-4069-9c02-22dbcfb747c4",
   "metadata": {},
   "outputs": [
    {
     "data": {
      "image/png": "[encoded data removed]",
      "text/plain": [
       "<Figure size 640x480 with 1 Axes>"
      ]
     },
     "metadata": {},
     "output_type": "display_data"
    }
   ],
   "source": [
    "sns.boxplot( x=df1[\"CIT\"], y=df1[\"WAGP\"] )\n",
    "# add plot labels\n",
    "plt.xlabel('Citizenship Status')\n",
    "plt.ylabel('Wages')\n",
    "plt.title('Comparison of Wage Ranges by Citizenship')\n",
    "\n",
    "plt.title('Comparison of Wage Ranges by Citizenship', fontsize=25)  # Adjust fontsize as needed\n",
    "\n",
    "plt.xticks(rotation=45)\n",
    "plt.ylim([0, 200000])\n",
    "current_values = plt.gca().get_yticks()\n",
    "plt.gca().set_yticklabels(['{:,.0f}'.format(x) for x in current_values])\n",
    "\n",
    "sns.set(rc = {'figure.figsize':(20,10)})\n",
    "plt.show()"
   ]
  },
  {
   "cell_type": "code",
   "execution_count": null,
   "id": "583501e1-5519-4438-97db-d95b9bac9ace",
   "metadata": {},
   "outputs": [],
   "source": []
  }
 ],
 "metadata": {
  "kernelspec": {
   "display_name": "Python 3 (ipykernel)",
   "language": "python",
   "name": "python3"
  },
  "language_info": {
   "codemirror_mode": {
    "name": "ipython",
    "version": 3
   },
   "file_extension": ".py",
   "mimetype": "text/x-python",
   "name": "python",
   "nbconvert_exporter": "python",
   "pygments_lexer": "ipython3",
   "version": "3.11.0"
  }
 },
 "nbformat": 4,
 "nbformat_minor": 5
}
