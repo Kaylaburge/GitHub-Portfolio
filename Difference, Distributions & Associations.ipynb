{
 "cells": [
  {
   "cell_type": "code",
   "execution_count": 1,
   "id": "a0f4f054-ba3e-42d8-a4c5-01563e8a2260",
   "metadata": {},
   "outputs": [],
   "source": [
    "## Variable Definitions:\n",
    "# CustID – An integer identifier for each customer (1 to 300).\n",
    "# Age – The customer’s age in years.\n",
    "# Gender – The customer’s gender identification: Male, Female, Other, or DNA (did not answer)\n",
    "# L-Tier – The customer’s loyalty tier: 1 (Silver), 2 (Gold), 3 (Platinum)\n",
    "# CLT_Mo – The customer’s lifetime in number of months.\n",
    "# AtmSat – The customer’s satisfaction rating regarding the atmosphere of the store (1 to 7).\n",
    "# ProdSat – The customer’s satisfaction rating regarding the products offered in the store (1 to 7).\n",
    "# ServSat – The customer’s satisfaction rating regarding the service available in the store (1 to 7).\n",
    "# Spend – The aggregate value of all this customer’s purchases in US dollars."
   ]
  },
  {
   "cell_type": "markdown",
   "id": "edfa054d-a59c-45d2-8ef9-040cac00f4e8",
   "metadata": {},
   "source": [
    "Step 1: Load the libraries you are going to need.\n",
    "Step 2: Read in the StoreData.csv file into a Table."
   ]
  },
  {
   "cell_type": "code",
   "execution_count": 2,
   "id": "5259be4f-7808-4e93-b0e2-8d8d82270684",
   "metadata": {},
   "outputs": [
    {
     "data": {
      "text/html": [
       "<div>\n",
       "<style scoped>\n",
       "    .dataframe tbody tr th:only-of-type {\n",
       "        vertical-align: middle;\n",
       "    }\n",
       "\n",
       "    .dataframe tbody tr th {\n",
       "        vertical-align: top;\n",
       "    }\n",
       "\n",
       "    .dataframe thead th {\n",
       "        text-align: right;\n",
       "    }\n",
       "</style>\n",
       "<table border=\"1\" class=\"dataframe\">\n",
       "  <thead>\n",
       "    <tr style=\"text-align: right;\">\n",
       "      <th></th>\n",
       "      <th>CustID</th>\n",
       "      <th>Age</th>\n",
       "      <th>Gender</th>\n",
       "      <th>L_Tier</th>\n",
       "      <th>CLT_Mo</th>\n",
       "      <th>AtmSat</th>\n",
       "      <th>ProdSat</th>\n",
       "      <th>ServSat</th>\n",
       "      <th>Spend</th>\n",
       "    </tr>\n",
       "  </thead>\n",
       "  <tbody>\n",
       "    <tr>\n",
       "      <th>0</th>\n",
       "      <td>1</td>\n",
       "      <td>56</td>\n",
       "      <td>Other</td>\n",
       "      <td>1</td>\n",
       "      <td>102</td>\n",
       "      <td>4</td>\n",
       "      <td>4</td>\n",
       "      <td>1</td>\n",
       "      <td>2804</td>\n",
       "    </tr>\n",
       "    <tr>\n",
       "      <th>1</th>\n",
       "      <td>2</td>\n",
       "      <td>52</td>\n",
       "      <td>Male</td>\n",
       "      <td>3</td>\n",
       "      <td>113</td>\n",
       "      <td>5</td>\n",
       "      <td>5</td>\n",
       "      <td>4</td>\n",
       "      <td>2974</td>\n",
       "    </tr>\n",
       "    <tr>\n",
       "      <th>2</th>\n",
       "      <td>3</td>\n",
       "      <td>32</td>\n",
       "      <td>Male</td>\n",
       "      <td>1</td>\n",
       "      <td>1</td>\n",
       "      <td>3</td>\n",
       "      <td>3</td>\n",
       "      <td>1</td>\n",
       "      <td>2038</td>\n",
       "    </tr>\n",
       "    <tr>\n",
       "      <th>3</th>\n",
       "      <td>4</td>\n",
       "      <td>35</td>\n",
       "      <td>Male</td>\n",
       "      <td>3</td>\n",
       "      <td>63</td>\n",
       "      <td>3</td>\n",
       "      <td>3</td>\n",
       "      <td>2</td>\n",
       "      <td>2297</td>\n",
       "    </tr>\n",
       "    <tr>\n",
       "      <th>4</th>\n",
       "      <td>5</td>\n",
       "      <td>37</td>\n",
       "      <td>Male</td>\n",
       "      <td>1</td>\n",
       "      <td>113</td>\n",
       "      <td>3</td>\n",
       "      <td>3</td>\n",
       "      <td>1</td>\n",
       "      <td>2384</td>\n",
       "    </tr>\n",
       "  </tbody>\n",
       "</table>\n",
       "</div>"
      ],
      "text/plain": [
       "   CustID  Age Gender  L_Tier  CLT_Mo  AtmSat  ProdSat  ServSat  Spend\n",
       "0       1   56  Other       1     102       4        4        1   2804\n",
       "1       2   52   Male       3     113       5        5        4   2974\n",
       "2       3   32   Male       1       1       3        3        1   2038\n",
       "3       4   35   Male       3      63       3        3        2   2297\n",
       "4       5   37   Male       1     113       3        3        1   2384"
      ]
     },
     "execution_count": 2,
     "metadata": {},
     "output_type": "execute_result"
    }
   ],
   "source": [
    "import pandas as pd\n",
    "import numpy as np\n",
    "import matplotlib.pyplot as plt\n",
    "import seaborn as sns\n",
    "import statsmodels.api as sm\n",
    "\n",
    "df = pd.read_csv(\"../data/StoreData.csv\")\n",
    "df.head()"
   ]
  },
  {
   "cell_type": "code",
   "execution_count": 3,
   "id": "d6e79798-7235-4b40-a234-c727c65aa393",
   "metadata": {},
   "outputs": [],
   "source": [
    "# eliminate warnings\n",
    "# https://www.geeksforgeeks.org/how-to-disable-python-warnings/#\n",
    "import warnings\n",
    "\n",
    "# Settings the warnings to be ignored \n",
    "warnings.filterwarnings('ignore') "
   ]
  },
  {
   "cell_type": "markdown",
   "id": "1f934bd4-2434-47a4-a709-4dac589937de",
   "metadata": {},
   "source": [
    "Step 3: Get some basic info about the variables."
   ]
  },
  {
   "cell_type": "code",
   "execution_count": 4,
   "id": "fbd6ff94-17ec-4180-a0f9-bce32e229f2c",
   "metadata": {},
   "outputs": [
    {
     "data": {
      "text/plain": [
       "(300, 9)"
      ]
     },
     "execution_count": 4,
     "metadata": {},
     "output_type": "execute_result"
    }
   ],
   "source": [
    "df.shape"
   ]
  },
  {
   "cell_type": "code",
   "execution_count": 5,
   "id": "a25c2252-a5a1-4c83-9e4b-399ee7957846",
   "metadata": {},
   "outputs": [
    {
     "data": {
      "text/plain": [
       "CustID      int64\n",
       "Age         int64\n",
       "Gender     object\n",
       "L_Tier      int64\n",
       "CLT_Mo      int64\n",
       "AtmSat      int64\n",
       "ProdSat     int64\n",
       "ServSat     int64\n",
       "Spend       int64\n",
       "dtype: object"
      ]
     },
     "execution_count": 5,
     "metadata": {},
     "output_type": "execute_result"
    }
   ],
   "source": [
    "df.dtypes\n",
    "\n",
    "# this shows that Gender is an object not a string"
   ]
  },
  {
   "cell_type": "code",
   "execution_count": 6,
   "id": "94e165cf-8229-4616-8aa7-d79d7650ea69",
   "metadata": {},
   "outputs": [
    {
     "data": {
      "text/html": [
       "<div>\n",
       "<style scoped>\n",
       "    .dataframe tbody tr th:only-of-type {\n",
       "        vertical-align: middle;\n",
       "    }\n",
       "\n",
       "    .dataframe tbody tr th {\n",
       "        vertical-align: top;\n",
       "    }\n",
       "\n",
       "    .dataframe thead th {\n",
       "        text-align: right;\n",
       "    }\n",
       "</style>\n",
       "<table border=\"1\" class=\"dataframe\">\n",
       "  <thead>\n",
       "    <tr style=\"text-align: right;\">\n",
       "      <th></th>\n",
       "      <th>CustID</th>\n",
       "      <th>Age</th>\n",
       "      <th>L_Tier</th>\n",
       "      <th>CLT_Mo</th>\n",
       "      <th>AtmSat</th>\n",
       "      <th>ProdSat</th>\n",
       "      <th>ServSat</th>\n",
       "      <th>Spend</th>\n",
       "    </tr>\n",
       "  </thead>\n",
       "  <tbody>\n",
       "    <tr>\n",
       "      <th>count</th>\n",
       "      <td>300.000000</td>\n",
       "      <td>300.000000</td>\n",
       "      <td>300.000000</td>\n",
       "      <td>300.000000</td>\n",
       "      <td>300.000000</td>\n",
       "      <td>300.000000</td>\n",
       "      <td>300.000000</td>\n",
       "      <td>300.00000</td>\n",
       "    </tr>\n",
       "    <tr>\n",
       "      <th>mean</th>\n",
       "      <td>150.500000</td>\n",
       "      <td>50.323333</td>\n",
       "      <td>2.006667</td>\n",
       "      <td>61.673333</td>\n",
       "      <td>4.046667</td>\n",
       "      <td>4.070000</td>\n",
       "      <td>3.883333</td>\n",
       "      <td>2164.73000</td>\n",
       "    </tr>\n",
       "    <tr>\n",
       "      <th>std</th>\n",
       "      <td>86.746758</td>\n",
       "      <td>18.849664</td>\n",
       "      <td>0.830011</td>\n",
       "      <td>36.000278</td>\n",
       "      <td>1.555384</td>\n",
       "      <td>1.494169</td>\n",
       "      <td>2.055189</td>\n",
       "      <td>688.69711</td>\n",
       "    </tr>\n",
       "    <tr>\n",
       "      <th>min</th>\n",
       "      <td>1.000000</td>\n",
       "      <td>18.000000</td>\n",
       "      <td>1.000000</td>\n",
       "      <td>1.000000</td>\n",
       "      <td>1.000000</td>\n",
       "      <td>1.000000</td>\n",
       "      <td>1.000000</td>\n",
       "      <td>509.00000</td>\n",
       "    </tr>\n",
       "    <tr>\n",
       "      <th>25%</th>\n",
       "      <td>75.750000</td>\n",
       "      <td>35.000000</td>\n",
       "      <td>1.000000</td>\n",
       "      <td>30.750000</td>\n",
       "      <td>3.000000</td>\n",
       "      <td>3.000000</td>\n",
       "      <td>2.000000</td>\n",
       "      <td>1678.00000</td>\n",
       "    </tr>\n",
       "    <tr>\n",
       "      <th>50%</th>\n",
       "      <td>150.500000</td>\n",
       "      <td>51.000000</td>\n",
       "      <td>2.000000</td>\n",
       "      <td>63.000000</td>\n",
       "      <td>4.000000</td>\n",
       "      <td>4.000000</td>\n",
       "      <td>4.000000</td>\n",
       "      <td>2364.50000</td>\n",
       "    </tr>\n",
       "    <tr>\n",
       "      <th>75%</th>\n",
       "      <td>225.250000</td>\n",
       "      <td>67.000000</td>\n",
       "      <td>3.000000</td>\n",
       "      <td>94.000000</td>\n",
       "      <td>5.000000</td>\n",
       "      <td>5.000000</td>\n",
       "      <td>6.000000</td>\n",
       "      <td>2768.25000</td>\n",
       "    </tr>\n",
       "    <tr>\n",
       "      <th>max</th>\n",
       "      <td>300.000000</td>\n",
       "      <td>84.000000</td>\n",
       "      <td>3.000000</td>\n",
       "      <td>120.000000</td>\n",
       "      <td>7.000000</td>\n",
       "      <td>7.000000</td>\n",
       "      <td>7.000000</td>\n",
       "      <td>3035.00000</td>\n",
       "    </tr>\n",
       "  </tbody>\n",
       "</table>\n",
       "</div>"
      ],
      "text/plain": [
       "           CustID         Age      L_Tier      CLT_Mo      AtmSat     ProdSat  \\\n",
       "count  300.000000  300.000000  300.000000  300.000000  300.000000  300.000000   \n",
       "mean   150.500000   50.323333    2.006667   61.673333    4.046667    4.070000   \n",
       "std     86.746758   18.849664    0.830011   36.000278    1.555384    1.494169   \n",
       "min      1.000000   18.000000    1.000000    1.000000    1.000000    1.000000   \n",
       "25%     75.750000   35.000000    1.000000   30.750000    3.000000    3.000000   \n",
       "50%    150.500000   51.000000    2.000000   63.000000    4.000000    4.000000   \n",
       "75%    225.250000   67.000000    3.000000   94.000000    5.000000    5.000000   \n",
       "max    300.000000   84.000000    3.000000  120.000000    7.000000    7.000000   \n",
       "\n",
       "          ServSat       Spend  \n",
       "count  300.000000   300.00000  \n",
       "mean     3.883333  2164.73000  \n",
       "std      2.055189   688.69711  \n",
       "min      1.000000   509.00000  \n",
       "25%      2.000000  1678.00000  \n",
       "50%      4.000000  2364.50000  \n",
       "75%      6.000000  2768.25000  \n",
       "max      7.000000  3035.00000  "
      ]
     },
     "execution_count": 6,
     "metadata": {},
     "output_type": "execute_result"
    }
   ],
   "source": [
    "df[[\"CustID\", \"Age\", \"L_Tier\", \"CLT_Mo\", \"AtmSat\", \"ProdSat\", \"ServSat\", \"Spend\"]].describe()"
   ]
  },
  {
   "cell_type": "code",
   "execution_count": 7,
   "id": "43717de2-379e-4091-86d8-86896791243c",
   "metadata": {},
   "outputs": [
    {
     "name": "stdout",
     "output_type": "stream",
     "text": [
      "Gender\n",
      "Male      141\n",
      "Female    137\n",
      "Other      16\n",
      "DNA         6\n",
      "Name: count, dtype: int64\n"
     ]
    }
   ],
   "source": [
    "gender_table = df['Gender'].value_counts()\n",
    "print(gender_table)"
   ]
  },
  {
   "cell_type": "code",
   "execution_count": 8,
   "id": "b5550a41-ab58-48fe-8e94-8b09619c3a95",
   "metadata": {},
   "outputs": [
    {
     "name": "stdout",
     "output_type": "stream",
     "text": [
      "Female\n",
      "0    163\n",
      "1    137\n",
      "Name: count, dtype: int64\n"
     ]
    }
   ],
   "source": [
    "# Make a female variable\n",
    "\n",
    "df['Female'] = np.where(df['Gender'] == 'Female', 1, 0)\n",
    "\n",
    "female_frequency = df['Female'].value_counts()\n",
    "\n",
    "print(female_frequency)"
   ]
  },
  {
   "cell_type": "code",
   "execution_count": 9,
   "id": "419c1155-02e4-4a52-91c6-a0f273271d6c",
   "metadata": {
    "scrolled": true
   },
   "outputs": [
    {
     "data": {
      "text/html": [
       "<div>\n",
       "<style scoped>\n",
       "    .dataframe tbody tr th:only-of-type {\n",
       "        vertical-align: middle;\n",
       "    }\n",
       "\n",
       "    .dataframe tbody tr th {\n",
       "        vertical-align: top;\n",
       "    }\n",
       "\n",
       "    .dataframe thead th {\n",
       "        text-align: right;\n",
       "    }\n",
       "</style>\n",
       "<table border=\"1\" class=\"dataframe\">\n",
       "  <thead>\n",
       "    <tr style=\"text-align: right;\">\n",
       "      <th></th>\n",
       "      <th>CustID</th>\n",
       "      <th>Age</th>\n",
       "      <th>Gender</th>\n",
       "      <th>L_Tier</th>\n",
       "      <th>CLT_Mo</th>\n",
       "      <th>AtmSat</th>\n",
       "      <th>ProdSat</th>\n",
       "      <th>ServSat</th>\n",
       "      <th>Spend</th>\n",
       "      <th>Female</th>\n",
       "    </tr>\n",
       "  </thead>\n",
       "  <tbody>\n",
       "    <tr>\n",
       "      <th>0</th>\n",
       "      <td>1</td>\n",
       "      <td>56</td>\n",
       "      <td>Other</td>\n",
       "      <td>1</td>\n",
       "      <td>102</td>\n",
       "      <td>4</td>\n",
       "      <td>4</td>\n",
       "      <td>1</td>\n",
       "      <td>2804</td>\n",
       "      <td>0</td>\n",
       "    </tr>\n",
       "    <tr>\n",
       "      <th>1</th>\n",
       "      <td>2</td>\n",
       "      <td>52</td>\n",
       "      <td>Male</td>\n",
       "      <td>3</td>\n",
       "      <td>113</td>\n",
       "      <td>5</td>\n",
       "      <td>5</td>\n",
       "      <td>4</td>\n",
       "      <td>2974</td>\n",
       "      <td>0</td>\n",
       "    </tr>\n",
       "    <tr>\n",
       "      <th>2</th>\n",
       "      <td>3</td>\n",
       "      <td>32</td>\n",
       "      <td>Male</td>\n",
       "      <td>1</td>\n",
       "      <td>1</td>\n",
       "      <td>3</td>\n",
       "      <td>3</td>\n",
       "      <td>1</td>\n",
       "      <td>2038</td>\n",
       "      <td>0</td>\n",
       "    </tr>\n",
       "    <tr>\n",
       "      <th>3</th>\n",
       "      <td>4</td>\n",
       "      <td>35</td>\n",
       "      <td>Male</td>\n",
       "      <td>3</td>\n",
       "      <td>63</td>\n",
       "      <td>3</td>\n",
       "      <td>3</td>\n",
       "      <td>2</td>\n",
       "      <td>2297</td>\n",
       "      <td>0</td>\n",
       "    </tr>\n",
       "    <tr>\n",
       "      <th>4</th>\n",
       "      <td>5</td>\n",
       "      <td>37</td>\n",
       "      <td>Male</td>\n",
       "      <td>1</td>\n",
       "      <td>113</td>\n",
       "      <td>3</td>\n",
       "      <td>3</td>\n",
       "      <td>1</td>\n",
       "      <td>2384</td>\n",
       "      <td>0</td>\n",
       "    </tr>\n",
       "    <tr>\n",
       "      <th>5</th>\n",
       "      <td>6</td>\n",
       "      <td>75</td>\n",
       "      <td>Female</td>\n",
       "      <td>2</td>\n",
       "      <td>1</td>\n",
       "      <td>3</td>\n",
       "      <td>4</td>\n",
       "      <td>4</td>\n",
       "      <td>1688</td>\n",
       "      <td>1</td>\n",
       "    </tr>\n",
       "    <tr>\n",
       "      <th>6</th>\n",
       "      <td>7</td>\n",
       "      <td>80</td>\n",
       "      <td>Male</td>\n",
       "      <td>3</td>\n",
       "      <td>51</td>\n",
       "      <td>5</td>\n",
       "      <td>5</td>\n",
       "      <td>3</td>\n",
       "      <td>1285</td>\n",
       "      <td>0</td>\n",
       "    </tr>\n",
       "    <tr>\n",
       "      <th>7</th>\n",
       "      <td>8</td>\n",
       "      <td>76</td>\n",
       "      <td>Male</td>\n",
       "      <td>1</td>\n",
       "      <td>114</td>\n",
       "      <td>5</td>\n",
       "      <td>5</td>\n",
       "      <td>2</td>\n",
       "      <td>1686</td>\n",
       "      <td>0</td>\n",
       "    </tr>\n",
       "    <tr>\n",
       "      <th>8</th>\n",
       "      <td>9</td>\n",
       "      <td>72</td>\n",
       "      <td>Male</td>\n",
       "      <td>1</td>\n",
       "      <td>73</td>\n",
       "      <td>5</td>\n",
       "      <td>6</td>\n",
       "      <td>3</td>\n",
       "      <td>2108</td>\n",
       "      <td>0</td>\n",
       "    </tr>\n",
       "    <tr>\n",
       "      <th>9</th>\n",
       "      <td>10</td>\n",
       "      <td>58</td>\n",
       "      <td>Male</td>\n",
       "      <td>3</td>\n",
       "      <td>71</td>\n",
       "      <td>5</td>\n",
       "      <td>5</td>\n",
       "      <td>3</td>\n",
       "      <td>2872</td>\n",
       "      <td>0</td>\n",
       "    </tr>\n",
       "  </tbody>\n",
       "</table>\n",
       "</div>"
      ],
      "text/plain": [
       "   CustID  Age  Gender  L_Tier  CLT_Mo  AtmSat  ProdSat  ServSat  Spend  \\\n",
       "0       1   56   Other       1     102       4        4        1   2804   \n",
       "1       2   52    Male       3     113       5        5        4   2974   \n",
       "2       3   32    Male       1       1       3        3        1   2038   \n",
       "3       4   35    Male       3      63       3        3        2   2297   \n",
       "4       5   37    Male       1     113       3        3        1   2384   \n",
       "5       6   75  Female       2       1       3        4        4   1688   \n",
       "6       7   80    Male       3      51       5        5        3   1285   \n",
       "7       8   76    Male       1     114       5        5        2   1686   \n",
       "8       9   72    Male       1      73       5        6        3   2108   \n",
       "9      10   58    Male       3      71       5        5        3   2872   \n",
       "\n",
       "   Female  \n",
       "0       0  \n",
       "1       0  \n",
       "2       0  \n",
       "3       0  \n",
       "4       0  \n",
       "5       1  \n",
       "6       0  \n",
       "7       0  \n",
       "8       0  \n",
       "9       0  "
      ]
     },
     "execution_count": 9,
     "metadata": {},
     "output_type": "execute_result"
    }
   ],
   "source": [
    "df.head(10)"
   ]
  },
  {
   "cell_type": "markdown",
   "id": "6675f9f7-aa81-4f01-966c-2a5e2b977cd6",
   "metadata": {},
   "source": [
    "Step 4: Visualize your data."
   ]
  },
  {
   "cell_type": "code",
   "execution_count": 10,
   "id": "9b579a77-59ac-48e7-8df3-7a591c531f62",
   "metadata": {},
   "outputs": [
    {
     "data": {
      "text/plain": [
       "<Figure size 1200x800 with 0 Axes>"
      ]
     },
     "metadata": {},
     "output_type": "display_data"
    },
    {
     "data": {
      "image/png": "[encoded data removed]",
      "text/plain": [
       "<Figure size 800x400 with 1 Axes>"
      ]
     },
     "metadata": {},
     "output_type": "display_data"
    },
    {
     "data": {
      "image/png": "[encoded data removed]",
      "text/plain": [
       "<Figure size 800x400 with 1 Axes>"
      ]
     },
     "metadata": {},
     "output_type": "display_data"
    },
    {
     "data": {
      "image/png": "[encoded data removed]",
      "text/plain": [
       "<Figure size 800x400 with 1 Axes>"
      ]
     },
     "metadata": {},
     "output_type": "display_data"
    },
    {
     "data": {
      "image/png": "[encoded data removed]",
      "text/plain": [
       "<Figure size 800x400 with 1 Axes>"
      ]
     },
     "metadata": {},
     "output_type": "display_data"
    },
    {
     "data": {
      "image/png": "[encoded data removed]",
      "text/plain": [
       "<Figure size 800x400 with 1 Axes>"
      ]
     },
     "metadata": {},
     "output_type": "display_data"
    },
    {
     "data": {
      "image/png": "[encoded data removed]",
      "text/plain": [
       "<Figure size 800x400 with 1 Axes>"
      ]
     },
     "metadata": {},
     "output_type": "display_data"
    },
    {
     "data": {
      "image/png": "[encoded data removed]",
      "text/plain": [
       "<Figure size 800x400 with 1 Axes>"
      ]
     },
     "metadata": {},
     "output_type": "display_data"
    },
    {
     "data": {
      "image/png": "[encoded data removed]",
      "text/plain": [
       "<Figure size 800x400 with 1 Axes>"
      ]
     },
     "metadata": {},
     "output_type": "display_data"
    }
   ],
   "source": [
    "continuous_columns = df.drop(['CustID', 'Gender'], axis=1)\n",
    "\n",
    "# Replace infinite values with NaN\n",
    "continuous_columns.replace([np.inf, -np.inf], np.nan, inplace=True)\n",
    "\n",
    "# Drop rows with NaN values\n",
    "continuous_columns.dropna(inplace=True)\n",
    "\n",
    "# Use seaborn's histplot for better visualization\n",
    "sns.set(style=\"whitegrid\")\n",
    "plt.figure(figsize=(12, 8))\n",
    "\n",
    "# Plot histograms for each continuous variable\n",
    "for column in continuous_columns.columns:\n",
    "    plt.figure(figsize=(8, 4))\n",
    "    sns.histplot(continuous_columns[column], bins=20, kde=True)\n",
    "    plt.xlabel(column)\n",
    "    plt.ylabel('Frequency')\n",
    "    plt.show()\n"
   ]
  },
  {
   "cell_type": "markdown",
   "id": "77abb0c3-0e66-4025-aa09-dd051a4ec601",
   "metadata": {},
   "source": [
    "Step 5: Perform a one-sample t-test."
   ]
  },
  {
   "cell_type": "code",
   "execution_count": 11,
   "id": "06c4f812-8a1c-4a5b-9f12-5f56dea659ee",
   "metadata": {
    "scrolled": true
   },
   "outputs": [
    {
     "name": "stdout",
     "output_type": "stream",
     "text": [
      "T-statistic: -0.9832312286338039\n",
      "P-value: 0.3262885753507444\n"
     ]
    }
   ],
   "source": [
    "from scipy.stats import ttest_1samp\n",
    "\n",
    "# Assuming 'ServSat' is the column you want to test\n",
    "# Replace 'your_column_name' with the actual column name in your dataset.\n",
    "column_name = 'ServSat'\n",
    "\n",
    "# Perform one-sample t-test\n",
    "t_stat, p_value = ttest_1samp(df[column_name], popmean=4)\n",
    "\n",
    "# Print the results\n",
    "print(f'T-statistic: {t_stat}')\n",
    "print(f'P-value: {p_value}')\n"
   ]
  },
  {
   "cell_type": "markdown",
   "id": "8aa431b3-ad49-4b32-be03-24c8c3698e2b",
   "metadata": {},
   "source": [
    "Step 6: Do a paired-sample t-test."
   ]
  },
  {
   "cell_type": "code",
   "execution_count": 12,
   "id": "7938e597-b362-4183-83dd-ea227735d7be",
   "metadata": {},
   "outputs": [
    {
     "name": "stdout",
     "output_type": "stream",
     "text": [
      "One Sample t-test\n",
      "data: ServSat\n",
      "t = -0.98, df = 299, p-value = 0.326\n",
      "alternative hypothesis: true mean is not equal to 4\n",
      "95 percent confidence interval: -0.145 7.912\n",
      "sample estimates:\n",
      "mean of ServSat\n",
      "3.883\n"
     ]
    }
   ],
   "source": [
    "from scipy.stats import ttest_1samp\n",
    "\n",
    "ServSat = 'ServSat'\n",
    "\n",
    "# Perform one-sample t-test\n",
    "t_stat, p_value = ttest_1samp(df[ServSat], popmean=4)\n",
    "\n",
    "# Print the results\n",
    "print(f\"One Sample t-test\")\n",
    "print(f\"data: {ServSat}\")\n",
    "print(f\"t = {t_stat:.2f}, df = {len(df[ServSat]) - 1}, p-value = {p_value:.3f}\")\n",
    "print(\"alternative hypothesis: true mean is not equal to 4\")\n",
    "\n",
    "# Calculate and print the 95 percent confidence interval\n",
    "confidence_interval = (df[ServSat].mean() - 1.96 * df[ServSat].std(), df[ServSat].mean() + 1.96 * df[ServSat].std())\n",
    "print(f\"95 percent confidence interval: {confidence_interval[0]:.3f} {confidence_interval[1]:.3f}\")\n",
    "\n",
    "# Print the sample estimate\n",
    "print(f\"sample estimates:\")\n",
    "print(f\"mean of {ServSat}\")\n",
    "print(f\"{df[ServSat].mean():.3f}\")"
   ]
  },
  {
   "cell_type": "markdown",
   "id": "b09c18c0-2c92-44b4-8b50-eb2f5a8ada02",
   "metadata": {},
   "source": [
    "We should accept the null hypothesis that ServSat is not significantly different from 4. It also gives us a 95% CI that includes 4."
   ]
  },
  {
   "cell_type": "markdown",
   "id": "af772cdf-39be-41bf-b0c9-f432d9f71e62",
   "metadata": {},
   "source": [
    "Step 7: Perform a chi-squared test of association."
   ]
  },
  {
   "cell_type": "code",
   "execution_count": 13,
   "id": "64c7901e-a35c-4dfa-8ab5-730b0f04e9d9",
   "metadata": {},
   "outputs": [
    {
     "name": "stdout",
     "output_type": "stream",
     "text": [
      "L_Tier    1   2    3  Total\n",
      "Gender                     \n",
      "DNA       0   3    3      6\n",
      "Female   45  41   51    137\n",
      "Male     48  45   48    141\n",
      "Other     9   5    2     16\n",
      "Total   102  94  104    300\n"
     ]
    }
   ],
   "source": [
    "Gender = 'Gender'\n",
    "L_Tier = 'L_Tier'\n",
    "\n",
    "# Create a cross-table\n",
    "contingency_table = pd.crosstab(df[Gender], df[L_Tier], margins=True, margins_name=\"Total\")\n",
    "print(contingency_table)"
   ]
  },
  {
   "cell_type": "code",
   "execution_count": 14,
   "id": "178bcf87-931a-4ffb-9630-25377850b2c5",
   "metadata": {},
   "outputs": [
    {
     "name": "stdout",
     "output_type": "stream",
     "text": [
      "L_Tier   1   2   3\n",
      "Gender            \n",
      "DNA      0   3   3\n",
      "Female  45  41  51\n",
      "Male    48  45  48\n",
      "Other    9   5   2\n"
     ]
    }
   ],
   "source": [
    "# Dropping the rightmost 'Total' column and the bottom total row\n",
    "contingency_table2 = contingency_table.drop(\"Total\", axis=1).iloc[:-1]\n",
    "\n",
    "print(contingency_table2)\n"
   ]
  },
  {
   "cell_type": "code",
   "execution_count": 15,
   "id": "c309281a-0f1e-4ccd-972a-09d04c6dbf6b",
   "metadata": {},
   "outputs": [
    {
     "name": "stdout",
     "output_type": "stream",
     "text": [
      "Pearson's Chi-squared test\n",
      "X-squared = 8.1, df = 6, p-value = 0.228\n"
     ]
    }
   ],
   "source": [
    "from scipy.stats import chi2_contingency\n",
    "\n",
    "# Perform Chi-Square test\n",
    "chi2_stat, p_value, dof, expected = chi2_contingency(contingency_table2, correction=False)\n",
    "print(\"Pearson's Chi-squared test\")\n",
    "print(f\"X-squared = {chi2_stat:.1f}, df = {dof}, p-value = {p_value:.3f}\")"
   ]
  },
  {
   "cell_type": "markdown",
   "id": "86485a55-f3cd-48b5-b394-044e7c40f0f5",
   "metadata": {},
   "source": [
    "This results in a non-significant association (p=.23)."
   ]
  },
  {
   "cell_type": "code",
   "execution_count": 16,
   "id": "2c4232f4-ee06-47e0-9cac-73716a6000a5",
   "metadata": {},
   "outputs": [
    {
     "data": {
      "text/html": [
       "<div>\n",
       "<style scoped>\n",
       "    .dataframe tbody tr th:only-of-type {\n",
       "        vertical-align: middle;\n",
       "    }\n",
       "\n",
       "    .dataframe tbody tr th {\n",
       "        vertical-align: top;\n",
       "    }\n",
       "\n",
       "    .dataframe thead th {\n",
       "        text-align: right;\n",
       "    }\n",
       "</style>\n",
       "<table border=\"1\" class=\"dataframe\">\n",
       "  <thead>\n",
       "    <tr style=\"text-align: right;\">\n",
       "      <th></th>\n",
       "      <th>CustID</th>\n",
       "      <th>Age</th>\n",
       "      <th>Gender</th>\n",
       "      <th>L_Tier</th>\n",
       "      <th>CLT_Mo</th>\n",
       "      <th>AtmSat</th>\n",
       "      <th>ProdSat</th>\n",
       "      <th>ServSat</th>\n",
       "      <th>Spend</th>\n",
       "      <th>Female</th>\n",
       "    </tr>\n",
       "  </thead>\n",
       "  <tbody>\n",
       "    <tr>\n",
       "      <th>0</th>\n",
       "      <td>1</td>\n",
       "      <td>56</td>\n",
       "      <td>Other</td>\n",
       "      <td>1</td>\n",
       "      <td>102</td>\n",
       "      <td>4</td>\n",
       "      <td>4</td>\n",
       "      <td>1</td>\n",
       "      <td>2804</td>\n",
       "      <td>0</td>\n",
       "    </tr>\n",
       "    <tr>\n",
       "      <th>1</th>\n",
       "      <td>2</td>\n",
       "      <td>52</td>\n",
       "      <td>Male</td>\n",
       "      <td>3</td>\n",
       "      <td>113</td>\n",
       "      <td>5</td>\n",
       "      <td>5</td>\n",
       "      <td>4</td>\n",
       "      <td>2974</td>\n",
       "      <td>0</td>\n",
       "    </tr>\n",
       "    <tr>\n",
       "      <th>2</th>\n",
       "      <td>3</td>\n",
       "      <td>32</td>\n",
       "      <td>Male</td>\n",
       "      <td>1</td>\n",
       "      <td>1</td>\n",
       "      <td>3</td>\n",
       "      <td>3</td>\n",
       "      <td>1</td>\n",
       "      <td>2038</td>\n",
       "      <td>0</td>\n",
       "    </tr>\n",
       "    <tr>\n",
       "      <th>3</th>\n",
       "      <td>4</td>\n",
       "      <td>35</td>\n",
       "      <td>Male</td>\n",
       "      <td>3</td>\n",
       "      <td>63</td>\n",
       "      <td>3</td>\n",
       "      <td>3</td>\n",
       "      <td>2</td>\n",
       "      <td>2297</td>\n",
       "      <td>0</td>\n",
       "    </tr>\n",
       "    <tr>\n",
       "      <th>4</th>\n",
       "      <td>5</td>\n",
       "      <td>37</td>\n",
       "      <td>Male</td>\n",
       "      <td>1</td>\n",
       "      <td>113</td>\n",
       "      <td>3</td>\n",
       "      <td>3</td>\n",
       "      <td>1</td>\n",
       "      <td>2384</td>\n",
       "      <td>0</td>\n",
       "    </tr>\n",
       "  </tbody>\n",
       "</table>\n",
       "</div>"
      ],
      "text/plain": [
       "   CustID  Age Gender  L_Tier  CLT_Mo  AtmSat  ProdSat  ServSat  Spend  Female\n",
       "0       1   56  Other       1     102       4        4        1   2804       0\n",
       "1       2   52   Male       3     113       5        5        4   2974       0\n",
       "2       3   32   Male       1       1       3        3        1   2038       0\n",
       "3       4   35   Male       3      63       3        3        2   2297       0\n",
       "4       5   37   Male       1     113       3        3        1   2384       0"
      ]
     },
     "execution_count": 16,
     "metadata": {},
     "output_type": "execute_result"
    }
   ],
   "source": [
    "df.head()"
   ]
  },
  {
   "cell_type": "code",
   "execution_count": 17,
   "id": "538997d7-376a-4a82-98fa-0506d06f10df",
   "metadata": {},
   "outputs": [
    {
     "data": {
      "text/html": [
       "<div>\n",
       "<style scoped>\n",
       "    .dataframe tbody tr th:only-of-type {\n",
       "        vertical-align: middle;\n",
       "    }\n",
       "\n",
       "    .dataframe tbody tr th {\n",
       "        vertical-align: top;\n",
       "    }\n",
       "\n",
       "    .dataframe thead th {\n",
       "        text-align: right;\n",
       "    }\n",
       "</style>\n",
       "<table border=\"1\" class=\"dataframe\">\n",
       "  <thead>\n",
       "    <tr style=\"text-align: right;\">\n",
       "      <th></th>\n",
       "      <th>CustID</th>\n",
       "      <th>Age</th>\n",
       "      <th>Gender</th>\n",
       "      <th>L_Tier</th>\n",
       "      <th>CLT_Mo</th>\n",
       "      <th>AtmSat</th>\n",
       "      <th>ProdSat</th>\n",
       "      <th>ServSat</th>\n",
       "      <th>Spend</th>\n",
       "      <th>Female</th>\n",
       "    </tr>\n",
       "  </thead>\n",
       "  <tbody>\n",
       "    <tr>\n",
       "      <th>0</th>\n",
       "      <td>1</td>\n",
       "      <td>56</td>\n",
       "      <td>Other</td>\n",
       "      <td>1</td>\n",
       "      <td>102</td>\n",
       "      <td>4</td>\n",
       "      <td>4</td>\n",
       "      <td>1</td>\n",
       "      <td>2804</td>\n",
       "      <td>0</td>\n",
       "    </tr>\n",
       "    <tr>\n",
       "      <th>1</th>\n",
       "      <td>2</td>\n",
       "      <td>52</td>\n",
       "      <td>Male</td>\n",
       "      <td>3</td>\n",
       "      <td>113</td>\n",
       "      <td>5</td>\n",
       "      <td>5</td>\n",
       "      <td>4</td>\n",
       "      <td>2974</td>\n",
       "      <td>0</td>\n",
       "    </tr>\n",
       "    <tr>\n",
       "      <th>2</th>\n",
       "      <td>3</td>\n",
       "      <td>32</td>\n",
       "      <td>Male</td>\n",
       "      <td>1</td>\n",
       "      <td>1</td>\n",
       "      <td>3</td>\n",
       "      <td>3</td>\n",
       "      <td>1</td>\n",
       "      <td>2038</td>\n",
       "      <td>0</td>\n",
       "    </tr>\n",
       "    <tr>\n",
       "      <th>3</th>\n",
       "      <td>4</td>\n",
       "      <td>35</td>\n",
       "      <td>Male</td>\n",
       "      <td>3</td>\n",
       "      <td>63</td>\n",
       "      <td>3</td>\n",
       "      <td>3</td>\n",
       "      <td>2</td>\n",
       "      <td>2297</td>\n",
       "      <td>0</td>\n",
       "    </tr>\n",
       "    <tr>\n",
       "      <th>4</th>\n",
       "      <td>5</td>\n",
       "      <td>37</td>\n",
       "      <td>Male</td>\n",
       "      <td>1</td>\n",
       "      <td>113</td>\n",
       "      <td>3</td>\n",
       "      <td>3</td>\n",
       "      <td>1</td>\n",
       "      <td>2384</td>\n",
       "      <td>0</td>\n",
       "    </tr>\n",
       "  </tbody>\n",
       "</table>\n",
       "</div>"
      ],
      "text/plain": [
       "   CustID  Age Gender  L_Tier  CLT_Mo  AtmSat  ProdSat  ServSat  Spend  Female\n",
       "0       1   56  Other       1     102       4        4        1   2804       0\n",
       "1       2   52   Male       3     113       5        5        4   2974       0\n",
       "2       3   32   Male       1       1       3        3        1   2038       0\n",
       "3       4   35   Male       3      63       3        3        2   2297       0\n",
       "4       5   37   Male       1     113       3        3        1   2384       0"
      ]
     },
     "execution_count": 17,
     "metadata": {},
     "output_type": "execute_result"
    }
   ],
   "source": [
    "# Remaking the female variable\n",
    "# I had to drop earlier, but I need to put it back\n",
    "df['Female'] = np.where(df['Gender'] == 'Female', 1, 0)\n",
    "df.head()"
   ]
  },
  {
   "cell_type": "code",
   "execution_count": 18,
   "id": "26c7c3eb-954b-4e9a-a7ad-2e8e1fec9402",
   "metadata": {},
   "outputs": [
    {
     "name": "stdout",
     "output_type": "stream",
     "text": [
      "L_Tier    1   2    3  Total\n",
      "Female                     \n",
      "0        57  53   53    163\n",
      "1        45  41   51    137\n",
      "Total   102  94  104    300\n"
     ]
    }
   ],
   "source": [
    "# Test again using Female by L_Tier\n",
    "\n",
    "Female = 'Female'\n",
    "L_Tier = 'L_Tier'\n",
    "\n",
    "# Create a cross-table\n",
    "contingency_table2 = pd.crosstab(df[Female], df[L_Tier], margins=True, margins_name=\"Total\")\n",
    "print(contingency_table2)"
   ]
  },
  {
   "cell_type": "code",
   "execution_count": 19,
   "id": "2e4a8486-5866-4558-a266-a0bf8b296dde",
   "metadata": {},
   "outputs": [
    {
     "name": "stdout",
     "output_type": "stream",
     "text": [
      "Pearson's Chi-squared test\n",
      "X-squared = 0.73, df = 2, p-value = 0.693\n"
     ]
    }
   ],
   "source": [
    "Female = 'Female'\n",
    "L_Tier = 'L_Tier'\n",
    "\n",
    "# Create a contingency table\n",
    "contingency_table = pd.crosstab(df[Female], df[L_Tier])\n",
    "\n",
    "# Perform Chi-Square test\n",
    "chi2_stat, p_value, dof, expected = chi2_contingency(contingency_table, correction=False)\n",
    "\n",
    "# Print the results\n",
    "print(\"Pearson's Chi-squared test\")\n",
    "print(f\"X-squared = {chi2_stat:.2f}, df = {dof}, p-value = {p_value:.3f}\")\n"
   ]
  },
  {
   "cell_type": "markdown",
   "id": "e93280ef-c140-442a-9de9-0f245ed700f7",
   "metadata": {},
   "source": [
    "This result is non-signif., giving us confidence that there is no assoc. b/t Gender and LT (this is when the p < x-squared)"
   ]
  },
  {
   "cell_type": "markdown",
   "id": "cd1c4f68-9c9f-4f3d-990a-90d5ed01b833",
   "metadata": {},
   "source": [
    "Step 8: Model our data with linear regression.\n",
    "- I want predict the amount that a customer will spend based on their customer characteristics. I will do this using OLS linear regression. I will start by modeling Spend as a simple additive function of the other variables excluding CustID, and using the full-information Gender variable. However, I will treat gender and Loyalty Tier as categorical (create a new variable for each as a factor) and set “Female” and the lowest tier (1) as the reference levels."
   ]
  },
  {
   "cell_type": "code",
   "execution_count": 20,
   "id": "be1769a0-685a-44ac-9ae7-301a18cbd369",
   "metadata": {},
   "outputs": [
    {
     "data": {
      "text/html": [
       "<div>\n",
       "<style scoped>\n",
       "    .dataframe tbody tr th:only-of-type {\n",
       "        vertical-align: middle;\n",
       "    }\n",
       "\n",
       "    .dataframe tbody tr th {\n",
       "        vertical-align: top;\n",
       "    }\n",
       "\n",
       "    .dataframe thead th {\n",
       "        text-align: right;\n",
       "    }\n",
       "</style>\n",
       "<table border=\"1\" class=\"dataframe\">\n",
       "  <thead>\n",
       "    <tr style=\"text-align: right;\">\n",
       "      <th></th>\n",
       "      <th>CustID</th>\n",
       "      <th>Age</th>\n",
       "      <th>Gender</th>\n",
       "      <th>L_Tier</th>\n",
       "      <th>CLT_Mo</th>\n",
       "      <th>AtmSat</th>\n",
       "      <th>ProdSat</th>\n",
       "      <th>ServSat</th>\n",
       "      <th>Spend</th>\n",
       "      <th>Female</th>\n",
       "    </tr>\n",
       "  </thead>\n",
       "  <tbody>\n",
       "    <tr>\n",
       "      <th>0</th>\n",
       "      <td>1</td>\n",
       "      <td>56</td>\n",
       "      <td>Other</td>\n",
       "      <td>1</td>\n",
       "      <td>102</td>\n",
       "      <td>4</td>\n",
       "      <td>4</td>\n",
       "      <td>1</td>\n",
       "      <td>2804</td>\n",
       "      <td>0</td>\n",
       "    </tr>\n",
       "    <tr>\n",
       "      <th>1</th>\n",
       "      <td>2</td>\n",
       "      <td>52</td>\n",
       "      <td>Male</td>\n",
       "      <td>3</td>\n",
       "      <td>113</td>\n",
       "      <td>5</td>\n",
       "      <td>5</td>\n",
       "      <td>4</td>\n",
       "      <td>2974</td>\n",
       "      <td>0</td>\n",
       "    </tr>\n",
       "    <tr>\n",
       "      <th>2</th>\n",
       "      <td>3</td>\n",
       "      <td>32</td>\n",
       "      <td>Male</td>\n",
       "      <td>1</td>\n",
       "      <td>1</td>\n",
       "      <td>3</td>\n",
       "      <td>3</td>\n",
       "      <td>1</td>\n",
       "      <td>2038</td>\n",
       "      <td>0</td>\n",
       "    </tr>\n",
       "    <tr>\n",
       "      <th>3</th>\n",
       "      <td>4</td>\n",
       "      <td>35</td>\n",
       "      <td>Male</td>\n",
       "      <td>3</td>\n",
       "      <td>63</td>\n",
       "      <td>3</td>\n",
       "      <td>3</td>\n",
       "      <td>2</td>\n",
       "      <td>2297</td>\n",
       "      <td>0</td>\n",
       "    </tr>\n",
       "    <tr>\n",
       "      <th>4</th>\n",
       "      <td>5</td>\n",
       "      <td>37</td>\n",
       "      <td>Male</td>\n",
       "      <td>1</td>\n",
       "      <td>113</td>\n",
       "      <td>3</td>\n",
       "      <td>3</td>\n",
       "      <td>1</td>\n",
       "      <td>2384</td>\n",
       "      <td>0</td>\n",
       "    </tr>\n",
       "  </tbody>\n",
       "</table>\n",
       "</div>"
      ],
      "text/plain": [
       "   CustID  Age Gender  L_Tier  CLT_Mo  AtmSat  ProdSat  ServSat  Spend  Female\n",
       "0       1   56  Other       1     102       4        4        1   2804       0\n",
       "1       2   52   Male       3     113       5        5        4   2974       0\n",
       "2       3   32   Male       1       1       3        3        1   2038       0\n",
       "3       4   35   Male       3      63       3        3        2   2297       0\n",
       "4       5   37   Male       1     113       3        3        1   2384       0"
      ]
     },
     "execution_count": 20,
     "metadata": {},
     "output_type": "execute_result"
    }
   ],
   "source": [
    "df.head()\n",
    "\n",
    "# this is showing that it isn't changing the column into a factor\n",
    "# this would change the categorical (str) output to 0s and 1s"
   ]
  },
  {
   "cell_type": "code",
   "execution_count": 21,
   "id": "4b1c9942-8668-45d8-8657-f2f6838ccdf0",
   "metadata": {},
   "outputs": [
    {
     "data": {
      "text/plain": [
       "CustID        int64\n",
       "Age           int64\n",
       "Gender     category\n",
       "L_Tier     category\n",
       "CLT_Mo        int64\n",
       "AtmSat        int64\n",
       "ProdSat       int64\n",
       "ServSat       int64\n",
       "Spend         int64\n",
       "Female        int64\n",
       "dtype: object"
      ]
     },
     "execution_count": 21,
     "metadata": {},
     "output_type": "execute_result"
    }
   ],
   "source": [
    "# https://pbpython.com/categorical-encoding.html\n",
    "\n",
    "df[\"Gender\"] = df[\"Gender\"].astype('category')\n",
    "df[\"L_Tier\"] = df[\"L_Tier\"].astype('category')\n",
    "df.dtypes"
   ]
  },
  {
   "cell_type": "code",
   "execution_count": 22,
   "id": "8b105a4b-6fc3-4ac2-ac56-f7150d9736c8",
   "metadata": {},
   "outputs": [
    {
     "data": {
      "text/html": [
       "<div>\n",
       "<style scoped>\n",
       "    .dataframe tbody tr th:only-of-type {\n",
       "        vertical-align: middle;\n",
       "    }\n",
       "\n",
       "    .dataframe tbody tr th {\n",
       "        vertical-align: top;\n",
       "    }\n",
       "\n",
       "    .dataframe thead th {\n",
       "        text-align: right;\n",
       "    }\n",
       "</style>\n",
       "<table border=\"1\" class=\"dataframe\">\n",
       "  <thead>\n",
       "    <tr style=\"text-align: right;\">\n",
       "      <th></th>\n",
       "      <th>CustID</th>\n",
       "      <th>Age</th>\n",
       "      <th>Gender</th>\n",
       "      <th>L_Tier</th>\n",
       "      <th>CLT_Mo</th>\n",
       "      <th>AtmSat</th>\n",
       "      <th>ProdSat</th>\n",
       "      <th>ServSat</th>\n",
       "      <th>Spend</th>\n",
       "      <th>Female</th>\n",
       "      <th>F_Gender</th>\n",
       "      <th>F_Tier</th>\n",
       "    </tr>\n",
       "  </thead>\n",
       "  <tbody>\n",
       "    <tr>\n",
       "      <th>0</th>\n",
       "      <td>1</td>\n",
       "      <td>56</td>\n",
       "      <td>Other</td>\n",
       "      <td>1</td>\n",
       "      <td>102</td>\n",
       "      <td>4</td>\n",
       "      <td>4</td>\n",
       "      <td>1</td>\n",
       "      <td>2804</td>\n",
       "      <td>0</td>\n",
       "      <td>3</td>\n",
       "      <td>0</td>\n",
       "    </tr>\n",
       "    <tr>\n",
       "      <th>1</th>\n",
       "      <td>2</td>\n",
       "      <td>52</td>\n",
       "      <td>Male</td>\n",
       "      <td>3</td>\n",
       "      <td>113</td>\n",
       "      <td>5</td>\n",
       "      <td>5</td>\n",
       "      <td>4</td>\n",
       "      <td>2974</td>\n",
       "      <td>0</td>\n",
       "      <td>2</td>\n",
       "      <td>2</td>\n",
       "    </tr>\n",
       "    <tr>\n",
       "      <th>2</th>\n",
       "      <td>3</td>\n",
       "      <td>32</td>\n",
       "      <td>Male</td>\n",
       "      <td>1</td>\n",
       "      <td>1</td>\n",
       "      <td>3</td>\n",
       "      <td>3</td>\n",
       "      <td>1</td>\n",
       "      <td>2038</td>\n",
       "      <td>0</td>\n",
       "      <td>2</td>\n",
       "      <td>0</td>\n",
       "    </tr>\n",
       "    <tr>\n",
       "      <th>3</th>\n",
       "      <td>4</td>\n",
       "      <td>35</td>\n",
       "      <td>Male</td>\n",
       "      <td>3</td>\n",
       "      <td>63</td>\n",
       "      <td>3</td>\n",
       "      <td>3</td>\n",
       "      <td>2</td>\n",
       "      <td>2297</td>\n",
       "      <td>0</td>\n",
       "      <td>2</td>\n",
       "      <td>2</td>\n",
       "    </tr>\n",
       "    <tr>\n",
       "      <th>4</th>\n",
       "      <td>5</td>\n",
       "      <td>37</td>\n",
       "      <td>Male</td>\n",
       "      <td>1</td>\n",
       "      <td>113</td>\n",
       "      <td>3</td>\n",
       "      <td>3</td>\n",
       "      <td>1</td>\n",
       "      <td>2384</td>\n",
       "      <td>0</td>\n",
       "      <td>2</td>\n",
       "      <td>0</td>\n",
       "    </tr>\n",
       "  </tbody>\n",
       "</table>\n",
       "</div>"
      ],
      "text/plain": [
       "   CustID  Age Gender L_Tier  CLT_Mo  AtmSat  ProdSat  ServSat  Spend  Female  \\\n",
       "0       1   56  Other      1     102       4        4        1   2804       0   \n",
       "1       2   52   Male      3     113       5        5        4   2974       0   \n",
       "2       3   32   Male      1       1       3        3        1   2038       0   \n",
       "3       4   35   Male      3      63       3        3        2   2297       0   \n",
       "4       5   37   Male      1     113       3        3        1   2384       0   \n",
       "\n",
       "   F_Gender  F_Tier  \n",
       "0         3       0  \n",
       "1         2       2  \n",
       "2         2       0  \n",
       "3         2       2  \n",
       "4         2       0  "
      ]
     },
     "execution_count": 22,
     "metadata": {},
     "output_type": "execute_result"
    }
   ],
   "source": [
    "df[\"F_Gender\"] = df[\"Gender\"].cat.codes\n",
    "df[\"F_Tier\"] = df[\"L_Tier\"].cat.codes\n",
    "df.head()"
   ]
  },
  {
   "cell_type": "code",
   "execution_count": 23,
   "id": "9a6d4d55-f10c-4f84-849f-a5873178fe5a",
   "metadata": {},
   "outputs": [
    {
     "name": "stdout",
     "output_type": "stream",
     "text": [
      "                            OLS Regression Results                            \n",
      "==============================================================================\n",
      "Dep. Variable:                  Spend   R-squared:                       0.041\n",
      "Model:                            OLS   Adj. R-squared:                  0.018\n",
      "Method:                 Least Squares   F-statistic:                     1.762\n",
      "Date:                Mon, 22 Jan 2024   Prob (F-statistic):             0.0947\n",
      "Time:                        18:29:02   Log-Likelihood:                -2379.4\n",
      "No. Observations:                 300   AIC:                             4775.\n",
      "Df Residuals:                     292   BIC:                             4804.\n",
      "Df Model:                           7                                         \n",
      "Covariance Type:            nonrobust                                         \n",
      "==============================================================================\n",
      "                 coef    std err          t      P>|t|      [0.025      0.975]\n",
      "------------------------------------------------------------------------------\n",
      "const       1537.9079    225.108      6.832      0.000    1094.868    1980.948\n",
      "Age            1.0884      2.116      0.514      0.607      -3.077       5.254\n",
      "F_Gender      85.3931     64.110      1.332      0.184     -40.783     211.569\n",
      "F_Tier       -11.4957     48.022     -0.239      0.811    -106.009      83.017\n",
      "CLT_Mo         2.6355      1.106      2.382      0.018       0.458       4.813\n",
      "AtmSat        35.8419     41.871      0.856      0.393     -46.565     118.249\n",
      "ProdSat       29.4361     43.769      0.673      0.502     -56.706     115.578\n",
      "ServSat        6.0030     19.331      0.311      0.756     -32.043      44.049\n",
      "==============================================================================\n",
      "Omnibus:                       35.863   Durbin-Watson:                   1.930\n",
      "Prob(Omnibus):                  0.000   Jarque-Bera (JB):               30.442\n",
      "Skew:                          -0.693   Prob(JB):                     2.45e-07\n",
      "Kurtosis:                       2.284   Cond. No.                         495.\n",
      "==============================================================================\n",
      "\n",
      "Notes:\n",
      "[1] Standard Errors assume that the covariance matrix of the errors is correctly specified.\n"
     ]
    }
   ],
   "source": [
    "import statsmodels.api as sm\n",
    "\n",
    "df_py = df\n",
    "\n",
    "# Fit linear regression model\n",
    "X = sm.add_constant(df_py[['Age', 'F_Gender', 'F_Tier', 'CLT_Mo', 'AtmSat', 'ProdSat', 'ServSat']])\n",
    "y = df_py['Spend']\n",
    "\n",
    "model = sm.OLS(y, X).fit()\n",
    "print(model.summary())\n",
    "\n",
    "# R does this computation better as Python does not factor the variables\n",
    "# the probability found in R was 0.16"
   ]
  }
 ],
 "metadata": {
  "kernelspec": {
   "display_name": "Python 3 (ipykernel)",
   "language": "python",
   "name": "python3"
  },
  "language_info": {
   "codemirror_mode": {
    "name": "ipython",
    "version": 3
   },
   "file_extension": ".py",
   "mimetype": "text/x-python",
   "name": "python",
   "nbconvert_exporter": "python",
   "pygments_lexer": "ipython3",
   "version": "3.11.0"
  }
 },
 "nbformat": 4,
 "nbformat_minor": 5
}
