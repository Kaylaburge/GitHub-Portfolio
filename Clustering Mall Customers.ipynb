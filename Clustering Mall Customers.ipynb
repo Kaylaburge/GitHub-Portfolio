{
 "cells": [
  {
   "cell_type": "markdown",
   "id": "34b30c91",
   "metadata": {},
   "source": [
    "# Clustering"
   ]
  },
  {
   "cell_type": "code",
   "execution_count": 1,
   "id": "3431bf6b",
   "metadata": {},
   "outputs": [],
   "source": [
    "import numpy as np\n",
    "import pandas as pd\n",
    "import matplotlib as plt\n",
    "import seaborn as sns\n",
    "import matplotlib as mpl\n",
    "import os\n",
    "import matplotlib.pyplot as plt\n",
    "import plotnine as plot9           # https://anaconda.org/conda-forge/plotnine\n",
    "import random                      # https://www.w3schools.com/python/ref_random_seed.asp\n",
    "import requests\n",
    "import io"
   ]
  },
  {
   "cell_type": "code",
   "execution_count": 2,
   "id": "f2bf6b58",
   "metadata": {},
   "outputs": [],
   "source": [
    "# import algorithm functions\n",
    "from sklearn.cluster import KMeans\n",
    "from sklearn.preprocessing import StandardScaler\n",
    "from kneed import KneeLocator     # conda install -c conda-forge kneed\n",
    "from sklearn.metrics import silhouette_score\n",
    "from sklearn.datasets import make_blobs\n",
    "from plotnine import *\n",
    "from sklearn import metrics\n",
    "from scipy.spatial.distance import cdist\n",
    "from sklearn.preprocessing import MinMaxScaler"
   ]
  },
  {
   "cell_type": "code",
   "execution_count": 3,
   "id": "f50a4f34",
   "metadata": {},
   "outputs": [],
   "source": [
    "# eliminate warnings\n",
    "# https://www.geeksforgeeks.org/how-to-disable-python-warnings/#\n",
    "import warnings\n",
    "warnings.filterwarnings('ignore') "
   ]
  },
  {
   "cell_type": "code",
   "execution_count": 4,
   "id": "d0212aac",
   "metadata": {},
   "outputs": [
    {
     "data": {
      "text/plain": [
       "'/Users/kaylaburge/OneDrive - University of Florida/CURRENT CLASSES/Marketing Analytics 1/Code'"
      ]
     },
     "execution_count": 4,
     "metadata": {},
     "output_type": "execute_result"
    }
   ],
   "source": [
    "current_path  = os.getcwd()\n",
    "current_path"
   ]
  },
  {
   "cell_type": "markdown",
   "id": "aae3ea60",
   "metadata": {},
   "source": [
    "The source data is available on GitHub at this location: [Mall Customers Dataset](https://github.com/tirthajyoti/Machine-Learning-with-Python/blob/master/Datasets/Mall_Customers.csv). "
   ]
  },
  {
   "cell_type": "code",
   "execution_count": 5,
   "id": "9f3d3f20",
   "metadata": {},
   "outputs": [
    {
     "data": {
      "text/html": [
       "<div>\n",
       "<style scoped>\n",
       "    .dataframe tbody tr th:only-of-type {\n",
       "        vertical-align: middle;\n",
       "    }\n",
       "\n",
       "    .dataframe tbody tr th {\n",
       "        vertical-align: top;\n",
       "    }\n",
       "\n",
       "    .dataframe thead th {\n",
       "        text-align: right;\n",
       "    }\n",
       "</style>\n",
       "<table border=\"1\" class=\"dataframe\">\n",
       "  <thead>\n",
       "    <tr style=\"text-align: right;\">\n",
       "      <th></th>\n",
       "      <th>CustomerID</th>\n",
       "      <th>Gender</th>\n",
       "      <th>Age</th>\n",
       "      <th>Annual Income (k$)</th>\n",
       "      <th>Spending Score (1-100)</th>\n",
       "    </tr>\n",
       "  </thead>\n",
       "  <tbody>\n",
       "    <tr>\n",
       "      <th>0</th>\n",
       "      <td>1</td>\n",
       "      <td>Male</td>\n",
       "      <td>19</td>\n",
       "      <td>15</td>\n",
       "      <td>39</td>\n",
       "    </tr>\n",
       "    <tr>\n",
       "      <th>1</th>\n",
       "      <td>2</td>\n",
       "      <td>Male</td>\n",
       "      <td>21</td>\n",
       "      <td>15</td>\n",
       "      <td>81</td>\n",
       "    </tr>\n",
       "    <tr>\n",
       "      <th>2</th>\n",
       "      <td>3</td>\n",
       "      <td>Female</td>\n",
       "      <td>20</td>\n",
       "      <td>16</td>\n",
       "      <td>6</td>\n",
       "    </tr>\n",
       "    <tr>\n",
       "      <th>3</th>\n",
       "      <td>4</td>\n",
       "      <td>Female</td>\n",
       "      <td>23</td>\n",
       "      <td>16</td>\n",
       "      <td>77</td>\n",
       "    </tr>\n",
       "    <tr>\n",
       "      <th>4</th>\n",
       "      <td>5</td>\n",
       "      <td>Female</td>\n",
       "      <td>31</td>\n",
       "      <td>17</td>\n",
       "      <td>40</td>\n",
       "    </tr>\n",
       "    <tr>\n",
       "      <th>...</th>\n",
       "      <td>...</td>\n",
       "      <td>...</td>\n",
       "      <td>...</td>\n",
       "      <td>...</td>\n",
       "      <td>...</td>\n",
       "    </tr>\n",
       "    <tr>\n",
       "      <th>195</th>\n",
       "      <td>196</td>\n",
       "      <td>Female</td>\n",
       "      <td>35</td>\n",
       "      <td>120</td>\n",
       "      <td>79</td>\n",
       "    </tr>\n",
       "    <tr>\n",
       "      <th>196</th>\n",
       "      <td>197</td>\n",
       "      <td>Female</td>\n",
       "      <td>45</td>\n",
       "      <td>126</td>\n",
       "      <td>28</td>\n",
       "    </tr>\n",
       "    <tr>\n",
       "      <th>197</th>\n",
       "      <td>198</td>\n",
       "      <td>Male</td>\n",
       "      <td>32</td>\n",
       "      <td>126</td>\n",
       "      <td>74</td>\n",
       "    </tr>\n",
       "    <tr>\n",
       "      <th>198</th>\n",
       "      <td>199</td>\n",
       "      <td>Male</td>\n",
       "      <td>32</td>\n",
       "      <td>137</td>\n",
       "      <td>18</td>\n",
       "    </tr>\n",
       "    <tr>\n",
       "      <th>199</th>\n",
       "      <td>200</td>\n",
       "      <td>Male</td>\n",
       "      <td>30</td>\n",
       "      <td>137</td>\n",
       "      <td>83</td>\n",
       "    </tr>\n",
       "  </tbody>\n",
       "</table>\n",
       "<p>200 rows × 5 columns</p>\n",
       "</div>"
      ],
      "text/plain": [
       "     CustomerID  Gender  Age  Annual Income (k$)  Spending Score (1-100)\n",
       "0             1    Male   19                  15                      39\n",
       "1             2    Male   21                  15                      81\n",
       "2             3  Female   20                  16                       6\n",
       "3             4  Female   23                  16                      77\n",
       "4             5  Female   31                  17                      40\n",
       "..          ...     ...  ...                 ...                     ...\n",
       "195         196  Female   35                 120                      79\n",
       "196         197  Female   45                 126                      28\n",
       "197         198    Male   32                 126                      74\n",
       "198         199    Male   32                 137                      18\n",
       "199         200    Male   30                 137                      83\n",
       "\n",
       "[200 rows x 5 columns]"
      ]
     },
     "execution_count": 5,
     "metadata": {},
     "output_type": "execute_result"
    }
   ],
   "source": [
    "url = \"https://raw.githubusercontent.com/tirthajyoti/Machine-Learning-with-Python/master/Datasets/Mall_Customers.csv\"\n",
    "download = requests.get(url).content\n",
    "mydata = pd.read_csv(io.StringIO(download.decode('utf-8')))\n",
    "mydata"
   ]
  },
  {
   "cell_type": "code",
   "execution_count": 6,
   "id": "1c6b1a8b",
   "metadata": {},
   "outputs": [],
   "source": [
    "mydata.columns = ['CustID','Gender','Age','Inc','SpendScr']"
   ]
  },
  {
   "cell_type": "code",
   "execution_count": 7,
   "id": "20812230",
   "metadata": {},
   "outputs": [
    {
     "data": {
      "text/html": [
       "<div>\n",
       "<style scoped>\n",
       "    .dataframe tbody tr th:only-of-type {\n",
       "        vertical-align: middle;\n",
       "    }\n",
       "\n",
       "    .dataframe tbody tr th {\n",
       "        vertical-align: top;\n",
       "    }\n",
       "\n",
       "    .dataframe thead th {\n",
       "        text-align: right;\n",
       "    }\n",
       "</style>\n",
       "<table border=\"1\" class=\"dataframe\">\n",
       "  <thead>\n",
       "    <tr style=\"text-align: right;\">\n",
       "      <th></th>\n",
       "      <th>CustID</th>\n",
       "      <th>Gender</th>\n",
       "      <th>Age</th>\n",
       "      <th>Inc</th>\n",
       "      <th>SpendScr</th>\n",
       "    </tr>\n",
       "  </thead>\n",
       "  <tbody>\n",
       "    <tr>\n",
       "      <th>0</th>\n",
       "      <td>1</td>\n",
       "      <td>Male</td>\n",
       "      <td>19</td>\n",
       "      <td>15</td>\n",
       "      <td>39</td>\n",
       "    </tr>\n",
       "    <tr>\n",
       "      <th>1</th>\n",
       "      <td>2</td>\n",
       "      <td>Male</td>\n",
       "      <td>21</td>\n",
       "      <td>15</td>\n",
       "      <td>81</td>\n",
       "    </tr>\n",
       "    <tr>\n",
       "      <th>2</th>\n",
       "      <td>3</td>\n",
       "      <td>Female</td>\n",
       "      <td>20</td>\n",
       "      <td>16</td>\n",
       "      <td>6</td>\n",
       "    </tr>\n",
       "    <tr>\n",
       "      <th>3</th>\n",
       "      <td>4</td>\n",
       "      <td>Female</td>\n",
       "      <td>23</td>\n",
       "      <td>16</td>\n",
       "      <td>77</td>\n",
       "    </tr>\n",
       "    <tr>\n",
       "      <th>4</th>\n",
       "      <td>5</td>\n",
       "      <td>Female</td>\n",
       "      <td>31</td>\n",
       "      <td>17</td>\n",
       "      <td>40</td>\n",
       "    </tr>\n",
       "    <tr>\n",
       "      <th>...</th>\n",
       "      <td>...</td>\n",
       "      <td>...</td>\n",
       "      <td>...</td>\n",
       "      <td>...</td>\n",
       "      <td>...</td>\n",
       "    </tr>\n",
       "    <tr>\n",
       "      <th>195</th>\n",
       "      <td>196</td>\n",
       "      <td>Female</td>\n",
       "      <td>35</td>\n",
       "      <td>120</td>\n",
       "      <td>79</td>\n",
       "    </tr>\n",
       "    <tr>\n",
       "      <th>196</th>\n",
       "      <td>197</td>\n",
       "      <td>Female</td>\n",
       "      <td>45</td>\n",
       "      <td>126</td>\n",
       "      <td>28</td>\n",
       "    </tr>\n",
       "    <tr>\n",
       "      <th>197</th>\n",
       "      <td>198</td>\n",
       "      <td>Male</td>\n",
       "      <td>32</td>\n",
       "      <td>126</td>\n",
       "      <td>74</td>\n",
       "    </tr>\n",
       "    <tr>\n",
       "      <th>198</th>\n",
       "      <td>199</td>\n",
       "      <td>Male</td>\n",
       "      <td>32</td>\n",
       "      <td>137</td>\n",
       "      <td>18</td>\n",
       "    </tr>\n",
       "    <tr>\n",
       "      <th>199</th>\n",
       "      <td>200</td>\n",
       "      <td>Male</td>\n",
       "      <td>30</td>\n",
       "      <td>137</td>\n",
       "      <td>83</td>\n",
       "    </tr>\n",
       "  </tbody>\n",
       "</table>\n",
       "<p>200 rows × 5 columns</p>\n",
       "</div>"
      ],
      "text/plain": [
       "     CustID  Gender  Age  Inc  SpendScr\n",
       "0         1    Male   19   15        39\n",
       "1         2    Male   21   15        81\n",
       "2         3  Female   20   16         6\n",
       "3         4  Female   23   16        77\n",
       "4         5  Female   31   17        40\n",
       "..      ...     ...  ...  ...       ...\n",
       "195     196  Female   35  120        79\n",
       "196     197  Female   45  126        28\n",
       "197     198    Male   32  126        74\n",
       "198     199    Male   32  137        18\n",
       "199     200    Male   30  137        83\n",
       "\n",
       "[200 rows x 5 columns]"
      ]
     },
     "execution_count": 7,
     "metadata": {},
     "output_type": "execute_result"
    }
   ],
   "source": [
    "mydata"
   ]
  },
  {
   "cell_type": "markdown",
   "id": "6c13a621",
   "metadata": {},
   "source": [
    "Elbow Plot method"
   ]
  },
  {
   "cell_type": "code",
   "execution_count": 8,
   "id": "82d8b8bd",
   "metadata": {},
   "outputs": [],
   "source": [
    "# setting up for tests for K = 1 to 10\n",
    "distortions = []\n",
    "inertias = []\n",
    "mapping1 = {}\n",
    "mapping2 = {}\n",
    "K = range(1, 10)"
   ]
  },
  {
   "cell_type": "code",
   "execution_count": 9,
   "id": "e1514be7",
   "metadata": {},
   "outputs": [],
   "source": [
    "# selects the 3 numeric variables in the dataframe and assigns those variables to a new dataframe 'X'\n",
    "X = mydata[[\"Age\", \"Inc\", \"SpendScr\"]]"
   ]
  },
  {
   "cell_type": "markdown",
   "id": "3e675142",
   "metadata": {},
   "source": [
    "This block of code calculates the sum of squared distances based on different values of K. "
   ]
  },
  {
   "cell_type": "code",
   "execution_count": 11,
   "id": "400d16d3",
   "metadata": {},
   "outputs": [],
   "source": [
    "Sum_of_squared_distances = []\n",
    "K = range(1,15)\n",
    "for k in K:\n",
    "    km = KMeans(n_clusters=k)\n",
    "    km = km.fit(X)\n",
    "    Sum_of_squared_distances.append(km.inertia_)"
   ]
  },
  {
   "cell_type": "code",
   "execution_count": 12,
   "id": "8888c1b9",
   "metadata": {},
   "outputs": [
    {
     "data": {
      "image/png": "[encoded data removed]",
      "text/plain": [
       "<Figure size 640x480 with 1 Axes>"
      ]
     },
     "metadata": {},
     "output_type": "display_data"
    }
   ],
   "source": [
    "#visualization of sum of squared distances\n",
    "plt.plot(K, Sum_of_squared_distances, 'bx-')\n",
    "plt.xlabel('k')\n",
    "plt.ylabel('Sum_of_squared_distances')\n",
    "plt.title('Elbow Method For Optimal k')\n",
    "plt.show()"
   ]
  },
  {
   "cell_type": "code",
   "execution_count": 13,
   "id": "03cd64b9",
   "metadata": {},
   "outputs": [],
   "source": [
    "# this code permits us to map the inertia for each of the different levels of K. We can then store the inertia value in a new object.\n",
    "for k in K:\n",
    "    # Building and fitting the model\n",
    "    kmeanModel = KMeans(n_clusters=k).fit(X)\n",
    "    kmeanModel.fit(X)\n",
    " \n",
    "    distortions.append(sum(np.min(cdist(X, kmeanModel.cluster_centers_,\n",
    "                                        'euclidean'), axis=1)) / X.shape[0])\n",
    "    inertias.append(kmeanModel.inertia_)\n",
    " \n",
    "    mapping1[k] = sum(np.min(cdist(X, kmeanModel.cluster_centers_,\n",
    "                                   'euclidean'), axis=1)) / X.shape[0]\n",
    "    mapping2[k] = kmeanModel.inertia_"
   ]
  },
  {
   "cell_type": "code",
   "execution_count": 14,
   "id": "fe2217c9",
   "metadata": {},
   "outputs": [
    {
     "name": "stdout",
     "output_type": "stream",
     "text": [
      "1 : 35.5832677310801\n",
      "2 : 30.11722673262042\n",
      "3 : 24.013910603806483\n",
      "4 : 20.468250917276343\n",
      "5 : 17.766649611632193\n",
      "6 : 15.438839453968932\n",
      "7 : 14.59016365904806\n",
      "8 : 13.838474510495054\n",
      "9 : 13.314039239003641\n",
      "10 : 12.538198336728467\n",
      "11 : 12.103283422323809\n",
      "12 : 11.457381560575614\n",
      "13 : 11.349448694680994\n",
      "14 : 10.903273520684195\n"
     ]
    }
   ],
   "source": [
    "for key, val in mapping1.items():\n",
    "    print(f'{key} : {val}')"
   ]
  },
  {
   "cell_type": "code",
   "execution_count": 15,
   "id": "bbbee478",
   "metadata": {},
   "outputs": [
    {
     "data": {
      "image/png": "[encoded data removed]",
      "text/plain": [
       "<Figure size 640x480 with 1 Axes>"
      ]
     },
     "metadata": {},
     "output_type": "display_data"
    }
   ],
   "source": [
    "# plot the distortion metric by the K value. Distortion will provide another metric against which to evaluate the number of clusters (K).\n",
    "plt.plot(K, distortions, 'bx-')\n",
    "plt.xlabel('Values of K')\n",
    "plt.ylabel('Distortion')\n",
    "plt.title('The Elbow Method using Distortion')\n",
    "plt.show()"
   ]
  },
  {
   "cell_type": "code",
   "execution_count": 16,
   "id": "8860415b",
   "metadata": {},
   "outputs": [
    {
     "name": "stdout",
     "output_type": "stream",
     "text": [
      "1 : 308812.77999999997\n",
      "2 : 212840.1698209719\n",
      "3 : 143342.751571706\n",
      "4 : 104366.15145556198\n",
      "5 : 75493.84464013917\n",
      "6 : 58300.44332159069\n",
      "7 : 51118.83903912705\n",
      "8 : 44342.3173934174\n",
      "9 : 40798.68774656602\n",
      "10 : 37699.70885302062\n",
      "11 : 34399.16518985859\n",
      "12 : 31915.009332116686\n",
      "13 : 29978.31837974117\n",
      "14 : 28040.66392940393\n"
     ]
    }
   ],
   "source": [
    "# looking at the values in interia\n",
    "for key, val in mapping2.items():\n",
    "    print(f'{key} : {val}')"
   ]
  },
  {
   "cell_type": "code",
   "execution_count": 17,
   "id": "9383c88a",
   "metadata": {},
   "outputs": [
    {
     "data": {
      "image/png": "[encoded data removed]",
      "text/plain": [
       "<Figure size 640x480 with 1 Axes>"
      ]
     },
     "metadata": {},
     "output_type": "display_data"
    }
   ],
   "source": [
    "# plotting the inertia metric for evaluating K\n",
    "plt.plot(K, inertias, 'bx-')\n",
    "plt.xlabel('Values of K')\n",
    "plt.ylabel('Inertia')\n",
    "plt.title('The Elbow Method using Inertia')\n",
    "plt.show()"
   ]
  },
  {
   "cell_type": "markdown",
   "id": "be773fd9",
   "metadata": {},
   "source": [
    "6 clusters might be a good number to use"
   ]
  },
  {
   "cell_type": "code",
   "execution_count": 18,
   "id": "d87cf77f",
   "metadata": {},
   "outputs": [],
   "source": [
    "k = 6"
   ]
  },
  {
   "cell_type": "code",
   "execution_count": 19,
   "id": "22eadcea",
   "metadata": {},
   "outputs": [],
   "source": [
    "kmeans = KMeans(n_clusters=k)"
   ]
  },
  {
   "cell_type": "code",
   "execution_count": 20,
   "id": "ce184db7",
   "metadata": {},
   "outputs": [],
   "source": [
    "random.seed(365)"
   ]
  },
  {
   "cell_type": "code",
   "execution_count": 21,
   "id": "49e52683",
   "metadata": {},
   "outputs": [],
   "source": [
    "kmeans = kmeans.fit(mydata[[\"Age\", \"Inc\", \"SpendScr\"]])"
   ]
  },
  {
   "cell_type": "code",
   "execution_count": 22,
   "id": "58c4019f",
   "metadata": {},
   "outputs": [],
   "source": [
    "labels = kmeans.predict(mydata[[\"Age\", \"Inc\", \"SpendScr\"]])"
   ]
  },
  {
   "cell_type": "code",
   "execution_count": 23,
   "id": "419942f9",
   "metadata": {},
   "outputs": [],
   "source": [
    "#preserving the clusters and centers so they dont move\n",
    "centroids = kmeans.cluster_centers_"
   ]
  },
  {
   "cell_type": "code",
   "execution_count": 24,
   "id": "2d3562b2",
   "metadata": {},
   "outputs": [
    {
     "name": "stdout",
     "output_type": "stream",
     "text": [
      "[5 4 5 4 5 4 5 4 5 4 5 4 5 4 5 4 5 4 5 4 5 4 5 4 5 4 5 4 5 4 5 4 5 4 5 4 5\n",
      " 4 5 4 0 4 0 3 5 4 0 3 3 3 0 3 3 0 0 0 0 0 3 0 0 3 0 0 0 3 0 0 3 3 0 0 0 0\n",
      " 0 3 0 3 3 0 0 3 0 0 3 0 0 3 3 0 0 3 0 3 3 3 0 3 0 3 3 0 0 3 0 3 0 0 0 0 0\n",
      " 3 3 3 3 3 0 0 0 0 3 3 3 1 3 1 2 1 2 1 2 1 3 1 2 1 2 1 2 1 2 1 3 1 2 1 2 1\n",
      " 2 1 2 1 2 1 2 1 2 1 2 1 2 1 2 1 2 1 2 1 2 1 2 1 2 1 2 1 2 1 2 1 2 1 2 1 2\n",
      " 1 2 1 2 1 2 1 2 1 2 1 2 1 2 1]\n",
      "[[56.15555556 53.37777778 49.08888889]\n",
      " [32.69230769 86.53846154 82.12820513]\n",
      " [41.68571429 88.22857143 17.28571429]\n",
      " [27.         56.65789474 49.13157895]\n",
      " [25.27272727 25.72727273 79.36363636]\n",
      " [44.14285714 25.14285714 19.52380952]]\n"
     ]
    }
   ],
   "source": [
    "print(labels)\n",
    "print(centroids)"
   ]
  },
  {
   "cell_type": "code",
   "execution_count": 25,
   "id": "7cbd2027",
   "metadata": {},
   "outputs": [],
   "source": [
    "clu_calc = mydata"
   ]
  },
  {
   "cell_type": "markdown",
   "id": "dc6525ec",
   "metadata": {},
   "source": [
    "This step will append the cluster assigned by the algorithm as a new column in the dataframe (called 'label')."
   ]
  },
  {
   "cell_type": "code",
   "execution_count": 26,
   "id": "3cfb2589",
   "metadata": {},
   "outputs": [],
   "source": [
    "clu_calc['label'] = labels"
   ]
  },
  {
   "cell_type": "code",
   "execution_count": 27,
   "id": "4de99325",
   "metadata": {},
   "outputs": [
    {
     "data": {
      "text/html": [
       "<div>\n",
       "<style scoped>\n",
       "    .dataframe tbody tr th:only-of-type {\n",
       "        vertical-align: middle;\n",
       "    }\n",
       "\n",
       "    .dataframe tbody tr th {\n",
       "        vertical-align: top;\n",
       "    }\n",
       "\n",
       "    .dataframe thead th {\n",
       "        text-align: right;\n",
       "    }\n",
       "</style>\n",
       "<table border=\"1\" class=\"dataframe\">\n",
       "  <thead>\n",
       "    <tr style=\"text-align: right;\">\n",
       "      <th></th>\n",
       "      <th>CustID</th>\n",
       "      <th>Gender</th>\n",
       "      <th>Age</th>\n",
       "      <th>Inc</th>\n",
       "      <th>SpendScr</th>\n",
       "      <th>label</th>\n",
       "    </tr>\n",
       "  </thead>\n",
       "  <tbody>\n",
       "    <tr>\n",
       "      <th>0</th>\n",
       "      <td>1</td>\n",
       "      <td>Male</td>\n",
       "      <td>19</td>\n",
       "      <td>15</td>\n",
       "      <td>39</td>\n",
       "      <td>5</td>\n",
       "    </tr>\n",
       "    <tr>\n",
       "      <th>1</th>\n",
       "      <td>2</td>\n",
       "      <td>Male</td>\n",
       "      <td>21</td>\n",
       "      <td>15</td>\n",
       "      <td>81</td>\n",
       "      <td>4</td>\n",
       "    </tr>\n",
       "    <tr>\n",
       "      <th>2</th>\n",
       "      <td>3</td>\n",
       "      <td>Female</td>\n",
       "      <td>20</td>\n",
       "      <td>16</td>\n",
       "      <td>6</td>\n",
       "      <td>5</td>\n",
       "    </tr>\n",
       "    <tr>\n",
       "      <th>3</th>\n",
       "      <td>4</td>\n",
       "      <td>Female</td>\n",
       "      <td>23</td>\n",
       "      <td>16</td>\n",
       "      <td>77</td>\n",
       "      <td>4</td>\n",
       "    </tr>\n",
       "    <tr>\n",
       "      <th>4</th>\n",
       "      <td>5</td>\n",
       "      <td>Female</td>\n",
       "      <td>31</td>\n",
       "      <td>17</td>\n",
       "      <td>40</td>\n",
       "      <td>5</td>\n",
       "    </tr>\n",
       "    <tr>\n",
       "      <th>...</th>\n",
       "      <td>...</td>\n",
       "      <td>...</td>\n",
       "      <td>...</td>\n",
       "      <td>...</td>\n",
       "      <td>...</td>\n",
       "      <td>...</td>\n",
       "    </tr>\n",
       "    <tr>\n",
       "      <th>195</th>\n",
       "      <td>196</td>\n",
       "      <td>Female</td>\n",
       "      <td>35</td>\n",
       "      <td>120</td>\n",
       "      <td>79</td>\n",
       "      <td>1</td>\n",
       "    </tr>\n",
       "    <tr>\n",
       "      <th>196</th>\n",
       "      <td>197</td>\n",
       "      <td>Female</td>\n",
       "      <td>45</td>\n",
       "      <td>126</td>\n",
       "      <td>28</td>\n",
       "      <td>2</td>\n",
       "    </tr>\n",
       "    <tr>\n",
       "      <th>197</th>\n",
       "      <td>198</td>\n",
       "      <td>Male</td>\n",
       "      <td>32</td>\n",
       "      <td>126</td>\n",
       "      <td>74</td>\n",
       "      <td>1</td>\n",
       "    </tr>\n",
       "    <tr>\n",
       "      <th>198</th>\n",
       "      <td>199</td>\n",
       "      <td>Male</td>\n",
       "      <td>32</td>\n",
       "      <td>137</td>\n",
       "      <td>18</td>\n",
       "      <td>2</td>\n",
       "    </tr>\n",
       "    <tr>\n",
       "      <th>199</th>\n",
       "      <td>200</td>\n",
       "      <td>Male</td>\n",
       "      <td>30</td>\n",
       "      <td>137</td>\n",
       "      <td>83</td>\n",
       "      <td>1</td>\n",
       "    </tr>\n",
       "  </tbody>\n",
       "</table>\n",
       "<p>200 rows × 6 columns</p>\n",
       "</div>"
      ],
      "text/plain": [
       "     CustID  Gender  Age  Inc  SpendScr  label\n",
       "0         1    Male   19   15        39      5\n",
       "1         2    Male   21   15        81      4\n",
       "2         3  Female   20   16         6      5\n",
       "3         4  Female   23   16        77      4\n",
       "4         5  Female   31   17        40      5\n",
       "..      ...     ...  ...  ...       ...    ...\n",
       "195     196  Female   35  120        79      1\n",
       "196     197  Female   45  126        28      2\n",
       "197     198    Male   32  126        74      1\n",
       "198     199    Male   32  137        18      2\n",
       "199     200    Male   30  137        83      1\n",
       "\n",
       "[200 rows x 6 columns]"
      ]
     },
     "execution_count": 27,
     "metadata": {},
     "output_type": "execute_result"
    }
   ],
   "source": [
    "#added the label that got created by the k means clustering and added the label colum to the mydta df\n",
    "clu_calc"
   ]
  },
  {
   "cell_type": "code",
   "execution_count": 28,
   "id": "7659af1c",
   "metadata": {},
   "outputs": [
    {
     "data": {
      "image/png": "[encoded data removed]",
      "text/plain": [
       "<Figure size 640x480 with 1 Axes>"
      ]
     },
     "metadata": {},
     "output_type": "display_data"
    },
    {
     "data": {
      "text/plain": [
       "<ggplot: (332341709)>"
      ]
     },
     "execution_count": 28,
     "metadata": {},
     "output_type": "execute_result"
    }
   ],
   "source": [
    "#boxplots to descibe the clusters\n",
    "#variable width = true means that if there are more observations the bar is wider\n",
    "(\n",
    "    ggplot(clu_calc)\n",
    "    + geom_boxplot(aes(x='factor(label)', y='SpendScr'),\n",
    "                  varwidth = True,\n",
    "                  show_legend = True)\n",
    "    + labs(x=\"Cluster Number\", y=\"Spend Score\")\n",
    "\n",
    ")\n",
    "\n",
    "#clusters with highest spend score are interesting to me\n",
    "#clusters 1 and 2"
   ]
  },
  {
   "cell_type": "code",
   "execution_count": 29,
   "id": "f6f1f0db",
   "metadata": {},
   "outputs": [
    {
     "data": {
      "image/png": "[encoded data removed]",
      "text/plain": [
       "<Figure size 640x480 with 1 Axes>"
      ]
     },
     "metadata": {},
     "output_type": "display_data"
    },
    {
     "data": {
      "text/plain": [
       "<ggplot: (331136145)>"
      ]
     },
     "execution_count": 29,
     "metadata": {},
     "output_type": "execute_result"
    }
   ],
   "source": [
    "(\n",
    "    ggplot(clu_calc)\n",
    "    + geom_boxplot(aes(x='factor(label)', y='Age'),\n",
    "                  varwidth = True,\n",
    "                  show_legend = True)\n",
    "    + labs(x=\"Cluster Number\", y=\"Age\")\n",
    "\n",
    ")"
   ]
  },
  {
   "cell_type": "code",
   "execution_count": 30,
   "id": "8c206821",
   "metadata": {},
   "outputs": [
    {
     "data": {
      "image/png": "[encoded data removed]",
      "text/plain": [
       "<Figure size 640x480 with 1 Axes>"
      ]
     },
     "metadata": {},
     "output_type": "display_data"
    },
    {
     "data": {
      "text/plain": [
       "<ggplot: (333283657)>"
      ]
     },
     "execution_count": 30,
     "metadata": {},
     "output_type": "execute_result"
    }
   ],
   "source": [
    "(\n",
    "    ggplot(clu_calc)\n",
    "    + geom_boxplot(aes(x='factor(label)', y='Inc'),\n",
    "                  varwidth = True,\n",
    "                  show_legend = True)\n",
    "    + labs(x=\"Cluster Number\", y=\"Income\")\n",
    "\n",
    ")"
   ]
  },
  {
   "cell_type": "markdown",
   "id": "e35a3d75",
   "metadata": {},
   "source": [
    "These 3 numeric variables are on different scales. \n",
    "\n",
    "The code will recalculate the 3 numeric variables to illustrate how that changes the outcomes. "
   ]
  },
  {
   "cell_type": "code",
   "execution_count": 31,
   "id": "002c1a21",
   "metadata": {},
   "outputs": [
    {
     "data": {
      "text/plain": [
       "array([[0.01923077, 0.        , 0.3877551 ],\n",
       "       [0.05769231, 0.        , 0.81632653],\n",
       "       [0.03846154, 0.00819672, 0.05102041],\n",
       "       [0.09615385, 0.00819672, 0.7755102 ],\n",
       "       [0.25      , 0.01639344, 0.39795918],\n",
       "       [0.07692308, 0.01639344, 0.76530612],\n",
       "       [0.32692308, 0.02459016, 0.05102041],\n",
       "       [0.09615385, 0.02459016, 0.94897959],\n",
       "       [0.88461538, 0.03278689, 0.02040816],\n",
       "       [0.23076923, 0.03278689, 0.7244898 ],\n",
       "       [0.94230769, 0.03278689, 0.13265306],\n",
       "       [0.32692308, 0.03278689, 1.        ],\n",
       "       [0.76923077, 0.04098361, 0.14285714],\n",
       "       [0.11538462, 0.04098361, 0.7755102 ],\n",
       "       [0.36538462, 0.04098361, 0.12244898],\n",
       "       [0.07692308, 0.04098361, 0.79591837],\n",
       "       [0.32692308, 0.04918033, 0.34693878],\n",
       "       [0.03846154, 0.04918033, 0.66326531],\n",
       "       [0.65384615, 0.06557377, 0.28571429],\n",
       "       [0.32692308, 0.06557377, 0.98979592],\n",
       "       [0.32692308, 0.07377049, 0.34693878],\n",
       "       [0.13461538, 0.07377049, 0.73469388],\n",
       "       [0.53846154, 0.08196721, 0.04081633],\n",
       "       [0.25      , 0.08196721, 0.73469388],\n",
       "       [0.69230769, 0.10655738, 0.13265306],\n",
       "       [0.21153846, 0.10655738, 0.82653061],\n",
       "       [0.51923077, 0.10655738, 0.31632653],\n",
       "       [0.32692308, 0.10655738, 0.6122449 ],\n",
       "       [0.42307692, 0.1147541 , 0.30612245],\n",
       "       [0.09615385, 0.1147541 , 0.87755102],\n",
       "       [0.80769231, 0.12295082, 0.03061224],\n",
       "       [0.05769231, 0.12295082, 0.73469388],\n",
       "       [0.67307692, 0.14754098, 0.03061224],\n",
       "       [0.        , 0.14754098, 0.92857143],\n",
       "       [0.59615385, 0.14754098, 0.13265306],\n",
       "       [0.05769231, 0.14754098, 0.81632653],\n",
       "       [0.46153846, 0.1557377 , 0.16326531],\n",
       "       [0.23076923, 0.1557377 , 0.73469388],\n",
       "       [0.34615385, 0.18032787, 0.25510204],\n",
       "       [0.03846154, 0.18032787, 0.75510204],\n",
       "       [0.90384615, 0.18852459, 0.34693878],\n",
       "       [0.11538462, 0.18852459, 0.92857143],\n",
       "       [0.57692308, 0.19672131, 0.35714286],\n",
       "       [0.25      , 0.19672131, 0.6122449 ],\n",
       "       [0.59615385, 0.19672131, 0.2755102 ],\n",
       "       [0.11538462, 0.19672131, 0.65306122],\n",
       "       [0.61538462, 0.20491803, 0.55102041],\n",
       "       [0.17307692, 0.20491803, 0.46938776],\n",
       "       [0.21153846, 0.20491803, 0.41836735],\n",
       "       [0.25      , 0.20491803, 0.41836735],\n",
       "       [0.59615385, 0.22131148, 0.52040816],\n",
       "       [0.28846154, 0.22131148, 0.60204082],\n",
       "       [0.25      , 0.2295082 , 0.54081633],\n",
       "       [0.78846154, 0.2295082 , 0.60204082],\n",
       "       [0.61538462, 0.2295082 , 0.44897959],\n",
       "       [0.55769231, 0.2295082 , 0.40816327],\n",
       "       [0.63461538, 0.23770492, 0.5       ],\n",
       "       [0.98076923, 0.23770492, 0.45918367],\n",
       "       [0.17307692, 0.25409836, 0.51020408],\n",
       "       [0.67307692, 0.25409836, 0.45918367],\n",
       "       [1.        , 0.25409836, 0.56122449],\n",
       "       [0.01923077, 0.25409836, 0.55102041],\n",
       "       [0.94230769, 0.26229508, 0.52040816],\n",
       "       [0.69230769, 0.26229508, 0.59183673],\n",
       "       [0.86538462, 0.2704918 , 0.51020408],\n",
       "       [0.        , 0.2704918 , 0.59183673],\n",
       "       [0.48076923, 0.2704918 , 0.5       ],\n",
       "       [0.96153846, 0.2704918 , 0.47959184],\n",
       "       [0.01923077, 0.2704918 , 0.59183673],\n",
       "       [0.26923077, 0.2704918 , 0.46938776],\n",
       "       [1.        , 0.27868852, 0.55102041],\n",
       "       [0.55769231, 0.27868852, 0.41836735],\n",
       "       [0.80769231, 0.28688525, 0.48979592],\n",
       "       [0.80769231, 0.28688525, 0.56122449],\n",
       "       [0.78846154, 0.31967213, 0.46938776],\n",
       "       [0.15384615, 0.31967213, 0.54081633],\n",
       "       [0.51923077, 0.31967213, 0.53061224],\n",
       "       [0.42307692, 0.31967213, 0.47959184],\n",
       "       [0.09615385, 0.31967213, 0.52040816],\n",
       "       [0.59615385, 0.31967213, 0.41836735],\n",
       "       [0.75      , 0.31967213, 0.51020408],\n",
       "       [0.38461538, 0.31967213, 0.55102041],\n",
       "       [0.94230769, 0.31967213, 0.40816327],\n",
       "       [0.53846154, 0.31967213, 0.43877551],\n",
       "       [0.05769231, 0.31967213, 0.57142857],\n",
       "       [0.57692308, 0.31967213, 0.45918367],\n",
       "       [0.71153846, 0.3442623 , 0.58163265],\n",
       "       [0.07692308, 0.3442623 , 0.55102041],\n",
       "       [0.30769231, 0.35245902, 0.60204082],\n",
       "       [0.61538462, 0.35245902, 0.45918367],\n",
       "       [0.96153846, 0.36065574, 0.55102041],\n",
       "       [0.        , 0.36065574, 0.40816327],\n",
       "       [0.57692308, 0.36885246, 0.48979592],\n",
       "       [0.42307692, 0.36885246, 0.39795918],\n",
       "       [0.26923077, 0.36885246, 0.41836735],\n",
       "       [0.11538462, 0.36885246, 0.52040816],\n",
       "       [0.55769231, 0.36885246, 0.46938776],\n",
       "       [0.17307692, 0.36885246, 0.5       ],\n",
       "       [0.57692308, 0.37704918, 0.41836735],\n",
       "       [0.03846154, 0.37704918, 0.48979592],\n",
       "       [0.09615385, 0.3852459 , 0.40816327],\n",
       "       [0.59615385, 0.3852459 , 0.47959184],\n",
       "       [0.94230769, 0.3852459 , 0.59183673],\n",
       "       [0.15384615, 0.3852459 , 0.55102041],\n",
       "       [0.59615385, 0.3852459 , 0.56122449],\n",
       "       [0.05769231, 0.3852459 , 0.41836735],\n",
       "       [0.92307692, 0.39344262, 0.5       ],\n",
       "       [0.69230769, 0.39344262, 0.45918367],\n",
       "       [0.96153846, 0.39344262, 0.42857143],\n",
       "       [0.92307692, 0.39344262, 0.47959184],\n",
       "       [0.90384615, 0.39344262, 0.52040816],\n",
       "       [0.01923077, 0.39344262, 0.54081633],\n",
       "       [0.38461538, 0.40163934, 0.41836735],\n",
       "       [0.01923077, 0.40163934, 0.45918367],\n",
       "       [0.        , 0.40983607, 0.47959184],\n",
       "       [0.01923077, 0.40983607, 0.5       ],\n",
       "       [0.86538462, 0.40983607, 0.42857143],\n",
       "       [0.59615385, 0.40983607, 0.59183673],\n",
       "       [0.63461538, 0.42622951, 0.42857143],\n",
       "       [0.61538462, 0.42622951, 0.57142857],\n",
       "       [0.17307692, 0.42622951, 0.56122449],\n",
       "       [0.38461538, 0.42622951, 0.39795918],\n",
       "       [0.42307692, 0.44262295, 0.58163265],\n",
       "       [0.40384615, 0.44262295, 0.91836735],\n",
       "       [0.09615385, 0.45081967, 0.28571429],\n",
       "       [0.25      , 0.45081967, 0.7755102 ],\n",
       "       [0.48076923, 0.45901639, 0.34693878],\n",
       "       [0.42307692, 0.45901639, 0.95918367],\n",
       "       [0.78846154, 0.45901639, 0.10204082],\n",
       "       [0.38461538, 0.45901639, 0.75510204],\n",
       "       [0.55769231, 0.45901639, 0.08163265],\n",
       "       [0.40384615, 0.45901639, 0.75510204],\n",
       "       [0.13461538, 0.46721311, 0.33673469],\n",
       "       [0.25      , 0.46721311, 0.71428571],\n",
       "       [0.03846154, 0.47540984, 0.04081633],\n",
       "       [0.21153846, 0.47540984, 0.8877551 ],\n",
       "       [0.5       , 0.47540984, 0.06122449],\n",
       "       [0.26923077, 0.47540984, 0.73469388],\n",
       "       [0.01923077, 0.48360656, 0.09183673],\n",
       "       [0.32692308, 0.48360656, 0.7244898 ],\n",
       "       [0.75      , 0.49180328, 0.04081633],\n",
       "       [0.26923077, 0.49180328, 0.93877551],\n",
       "       [0.19230769, 0.5       , 0.39795918],\n",
       "       [0.26923077, 0.5       , 0.87755102],\n",
       "       [0.13461538, 0.50819672, 0.1122449 ],\n",
       "       [0.19230769, 0.50819672, 0.97959184],\n",
       "       [0.57692308, 0.50819672, 0.35714286],\n",
       "       [0.26923077, 0.50819672, 0.74489796],\n",
       "       [0.30769231, 0.51639344, 0.21428571],\n",
       "       [0.30769231, 0.51639344, 0.90816327],\n",
       "       [0.48076923, 0.51639344, 0.16326531],\n",
       "       [0.40384615, 0.51639344, 0.8877551 ],\n",
       "       [0.5       , 0.51639344, 0.19387755],\n",
       "       [0.38461538, 0.51639344, 0.76530612],\n",
       "       [0.55769231, 0.51639344, 0.15306122],\n",
       "       [0.17307692, 0.51639344, 0.89795918],\n",
       "       [0.36538462, 0.51639344, 0.        ],\n",
       "       [0.23076923, 0.51639344, 0.78571429],\n",
       "       [0.30769231, 0.51639344, 0.        ],\n",
       "       [0.23076923, 0.51639344, 0.73469388],\n",
       "       [0.73076923, 0.52459016, 0.34693878],\n",
       "       [0.21153846, 0.52459016, 0.83673469],\n",
       "       [0.01923077, 0.54098361, 0.04081633],\n",
       "       [0.25      , 0.54098361, 0.93877551],\n",
       "       [0.61538462, 0.57377049, 0.25510204],\n",
       "       [0.34615385, 0.57377049, 0.75510204],\n",
       "       [0.46153846, 0.58196721, 0.19387755],\n",
       "       [0.28846154, 0.58196721, 0.95918367],\n",
       "       [0.34615385, 0.59016393, 0.26530612],\n",
       "       [0.26923077, 0.59016393, 0.63265306],\n",
       "       [0.42307692, 0.59016393, 0.12244898],\n",
       "       [0.19230769, 0.59016393, 0.75510204],\n",
       "       [0.34615385, 0.59016393, 0.09183673],\n",
       "       [0.34615385, 0.59016393, 0.92857143],\n",
       "       [0.65384615, 0.59836066, 0.12244898],\n",
       "       [0.23076923, 0.59836066, 0.86734694],\n",
       "       [0.76923077, 0.59836066, 0.14285714],\n",
       "       [0.17307692, 0.59836066, 0.69387755],\n",
       "       [0.78846154, 0.63934426, 0.13265306],\n",
       "       [0.32692308, 0.63934426, 0.90816327],\n",
       "       [0.36538462, 0.67213115, 0.31632653],\n",
       "       [0.26923077, 0.67213115, 0.86734694],\n",
       "       [0.53846154, 0.68032787, 0.14285714],\n",
       "       [0.21153846, 0.68032787, 0.8877551 ],\n",
       "       [0.44230769, 0.68852459, 0.3877551 ],\n",
       "       [0.23076923, 0.68852459, 0.97959184],\n",
       "       [0.69230769, 0.70491803, 0.23469388],\n",
       "       [0.19230769, 0.70491803, 0.68367347],\n",
       "       [0.44230769, 0.72131148, 0.16326531],\n",
       "       [0.34615385, 0.72131148, 0.85714286],\n",
       "       [0.30769231, 0.72131148, 0.2244898 ],\n",
       "       [0.26923077, 0.72131148, 0.69387755],\n",
       "       [0.28846154, 0.80327869, 0.07142857],\n",
       "       [0.38461538, 0.80327869, 0.91836735],\n",
       "       [0.55769231, 0.86065574, 0.15306122],\n",
       "       [0.32692308, 0.86065574, 0.79591837],\n",
       "       [0.51923077, 0.90983607, 0.2755102 ],\n",
       "       [0.26923077, 0.90983607, 0.74489796],\n",
       "       [0.26923077, 1.        , 0.17346939],\n",
       "       [0.23076923, 1.        , 0.83673469]])"
      ]
     },
     "execution_count": 31,
     "metadata": {},
     "output_type": "execute_result"
    }
   ],
   "source": [
    "#it took each value on the data frame and put it in this scale\n",
    "mms = MinMaxScaler()\n",
    "mms.fit(mydata[[\"Age\", \"Inc\", \"SpendScr\"]])\n",
    "data_transformed = mms.transform(mydata[[\"Age\", \"Inc\",\"SpendScr\"]])\n",
    "data_transformed"
   ]
  },
  {
   "cell_type": "code",
   "execution_count": 32,
   "id": "cdf6d732",
   "metadata": {},
   "outputs": [],
   "source": [
    "Sum_of_squared_distances = []\n",
    "K = range(1,15)\n",
    "for k in K:\n",
    "    km = KMeans(n_clusters=k)\n",
    "    km = km.fit(data_transformed)\n",
    "    Sum_of_squared_distances.append(km.inertia_)"
   ]
  },
  {
   "cell_type": "code",
   "execution_count": 33,
   "id": "e183b135",
   "metadata": {},
   "outputs": [
    {
     "data": {
      "image/png": "[encoded data removed]",
      "text/plain": [
       "<Figure size 640x480 with 1 Axes>"
      ]
     },
     "metadata": {},
     "output_type": "display_data"
    }
   ],
   "source": [
    "plt.plot(K, Sum_of_squared_distances, 'bx-')\n",
    "plt.xlabel('k')\n",
    "plt.ylabel('Sum_of_squared_distances')\n",
    "plt.title('Elbow Method For Optimal k')\n",
    "plt.show()\n",
    "\n",
    "# Printing the elbow plot using the scaled variable clusters\n",
    "# looks like it flattens out at the 4"
   ]
  },
  {
   "cell_type": "markdown",
   "id": "ee5f8153",
   "metadata": {},
   "source": [
    "4 clusters might be good to use"
   ]
  },
  {
   "cell_type": "code",
   "execution_count": 34,
   "id": "2cf20f18",
   "metadata": {},
   "outputs": [],
   "source": [
    "k = 4"
   ]
  },
  {
   "cell_type": "code",
   "execution_count": 35,
   "id": "245be047",
   "metadata": {},
   "outputs": [],
   "source": [
    "kmeans = KMeans(n_clusters=k)"
   ]
  },
  {
   "cell_type": "code",
   "execution_count": 36,
   "id": "fcdec6a9",
   "metadata": {},
   "outputs": [],
   "source": [
    "random.seed(365)"
   ]
  },
  {
   "cell_type": "code",
   "execution_count": 37,
   "id": "d1085ffc",
   "metadata": {},
   "outputs": [],
   "source": [
    "kmeans = kmeans.fit(data_transformed)"
   ]
  },
  {
   "cell_type": "code",
   "execution_count": 38,
   "id": "a1bffe77",
   "metadata": {},
   "outputs": [],
   "source": [
    "labels = kmeans.predict(data_transformed)"
   ]
  },
  {
   "cell_type": "code",
   "execution_count": 39,
   "id": "97c32ad4",
   "metadata": {},
   "outputs": [],
   "source": [
    "centroids = kmeans.cluster_centers_"
   ]
  },
  {
   "cell_type": "code",
   "execution_count": 40,
   "id": "76f29040",
   "metadata": {},
   "outputs": [
    {
     "name": "stdout",
     "output_type": "stream",
     "text": [
      "[2 2 2 2 2 2 0 2 0 2 0 2 0 2 0 2 2 2 0 2 2 2 0 2 0 2 0 2 0 2 0 2 0 2 0 2 0\n",
      " 2 0 2 0 2 0 2 0 2 0 2 2 2 0 2 2 0 0 0 0 0 2 0 0 2 0 0 0 2 0 0 2 2 0 0 0 0\n",
      " 0 2 0 0 2 0 0 2 0 0 2 0 0 2 2 0 0 2 0 0 2 2 0 2 0 2 2 0 0 2 0 2 0 0 0 0 0\n",
      " 2 3 2 2 2 0 0 0 0 2 3 1 1 3 1 3 1 0 1 3 1 3 1 3 1 3 1 3 1 3 1 3 1 3 1 3 1\n",
      " 3 1 3 1 3 1 3 1 3 1 3 1 0 1 3 1 3 1 3 1 3 1 3 1 3 1 3 1 3 1 3 1 3 1 3 1 3\n",
      " 1 3 1 3 1 3 1 3 1 3 1 3 1 3 1]\n",
      "[[0.69201183 0.26809584 0.39764521]\n",
      " [0.28605769 0.58278689 0.82168367]\n",
      " [0.14304993 0.20491803 0.60508414]\n",
      " [0.41093117 0.58606557 0.1895811 ]]\n"
     ]
    }
   ],
   "source": [
    "print(labels)\n",
    "print(centroids)"
   ]
  },
  {
   "cell_type": "code",
   "execution_count": 41,
   "id": "62cace8f",
   "metadata": {},
   "outputs": [],
   "source": [
    "clu_calc = mydata"
   ]
  },
  {
   "cell_type": "code",
   "execution_count": 42,
   "id": "403d3105",
   "metadata": {},
   "outputs": [],
   "source": [
    "clu_calc['label'] = labels"
   ]
  },
  {
   "cell_type": "code",
   "execution_count": 43,
   "id": "70c3e47e",
   "metadata": {},
   "outputs": [
    {
     "data": {
      "text/html": [
       "<div>\n",
       "<style scoped>\n",
       "    .dataframe tbody tr th:only-of-type {\n",
       "        vertical-align: middle;\n",
       "    }\n",
       "\n",
       "    .dataframe tbody tr th {\n",
       "        vertical-align: top;\n",
       "    }\n",
       "\n",
       "    .dataframe thead th {\n",
       "        text-align: right;\n",
       "    }\n",
       "</style>\n",
       "<table border=\"1\" class=\"dataframe\">\n",
       "  <thead>\n",
       "    <tr style=\"text-align: right;\">\n",
       "      <th></th>\n",
       "      <th>CustID</th>\n",
       "      <th>Gender</th>\n",
       "      <th>Age</th>\n",
       "      <th>Inc</th>\n",
       "      <th>SpendScr</th>\n",
       "      <th>label</th>\n",
       "    </tr>\n",
       "  </thead>\n",
       "  <tbody>\n",
       "    <tr>\n",
       "      <th>0</th>\n",
       "      <td>1</td>\n",
       "      <td>Male</td>\n",
       "      <td>19</td>\n",
       "      <td>15</td>\n",
       "      <td>39</td>\n",
       "      <td>2</td>\n",
       "    </tr>\n",
       "    <tr>\n",
       "      <th>1</th>\n",
       "      <td>2</td>\n",
       "      <td>Male</td>\n",
       "      <td>21</td>\n",
       "      <td>15</td>\n",
       "      <td>81</td>\n",
       "      <td>2</td>\n",
       "    </tr>\n",
       "    <tr>\n",
       "      <th>2</th>\n",
       "      <td>3</td>\n",
       "      <td>Female</td>\n",
       "      <td>20</td>\n",
       "      <td>16</td>\n",
       "      <td>6</td>\n",
       "      <td>2</td>\n",
       "    </tr>\n",
       "    <tr>\n",
       "      <th>3</th>\n",
       "      <td>4</td>\n",
       "      <td>Female</td>\n",
       "      <td>23</td>\n",
       "      <td>16</td>\n",
       "      <td>77</td>\n",
       "      <td>2</td>\n",
       "    </tr>\n",
       "    <tr>\n",
       "      <th>4</th>\n",
       "      <td>5</td>\n",
       "      <td>Female</td>\n",
       "      <td>31</td>\n",
       "      <td>17</td>\n",
       "      <td>40</td>\n",
       "      <td>2</td>\n",
       "    </tr>\n",
       "    <tr>\n",
       "      <th>...</th>\n",
       "      <td>...</td>\n",
       "      <td>...</td>\n",
       "      <td>...</td>\n",
       "      <td>...</td>\n",
       "      <td>...</td>\n",
       "      <td>...</td>\n",
       "    </tr>\n",
       "    <tr>\n",
       "      <th>195</th>\n",
       "      <td>196</td>\n",
       "      <td>Female</td>\n",
       "      <td>35</td>\n",
       "      <td>120</td>\n",
       "      <td>79</td>\n",
       "      <td>1</td>\n",
       "    </tr>\n",
       "    <tr>\n",
       "      <th>196</th>\n",
       "      <td>197</td>\n",
       "      <td>Female</td>\n",
       "      <td>45</td>\n",
       "      <td>126</td>\n",
       "      <td>28</td>\n",
       "      <td>3</td>\n",
       "    </tr>\n",
       "    <tr>\n",
       "      <th>197</th>\n",
       "      <td>198</td>\n",
       "      <td>Male</td>\n",
       "      <td>32</td>\n",
       "      <td>126</td>\n",
       "      <td>74</td>\n",
       "      <td>1</td>\n",
       "    </tr>\n",
       "    <tr>\n",
       "      <th>198</th>\n",
       "      <td>199</td>\n",
       "      <td>Male</td>\n",
       "      <td>32</td>\n",
       "      <td>137</td>\n",
       "      <td>18</td>\n",
       "      <td>3</td>\n",
       "    </tr>\n",
       "    <tr>\n",
       "      <th>199</th>\n",
       "      <td>200</td>\n",
       "      <td>Male</td>\n",
       "      <td>30</td>\n",
       "      <td>137</td>\n",
       "      <td>83</td>\n",
       "      <td>1</td>\n",
       "    </tr>\n",
       "  </tbody>\n",
       "</table>\n",
       "<p>200 rows × 6 columns</p>\n",
       "</div>"
      ],
      "text/plain": [
       "     CustID  Gender  Age  Inc  SpendScr  label\n",
       "0         1    Male   19   15        39      2\n",
       "1         2    Male   21   15        81      2\n",
       "2         3  Female   20   16         6      2\n",
       "3         4  Female   23   16        77      2\n",
       "4         5  Female   31   17        40      2\n",
       "..      ...     ...  ...  ...       ...    ...\n",
       "195     196  Female   35  120        79      1\n",
       "196     197  Female   45  126        28      3\n",
       "197     198    Male   32  126        74      1\n",
       "198     199    Male   32  137        18      3\n",
       "199     200    Male   30  137        83      1\n",
       "\n",
       "[200 rows x 6 columns]"
      ]
     },
     "execution_count": 43,
     "metadata": {},
     "output_type": "execute_result"
    }
   ],
   "source": [
    "clu_calc"
   ]
  },
  {
   "cell_type": "code",
   "execution_count": 44,
   "id": "e9f2621e",
   "metadata": {},
   "outputs": [
    {
     "data": {
      "image/png": "[encoded data removed]",
      "text/plain": [
       "<Figure size 640x480 with 1 Axes>"
      ]
     },
     "metadata": {},
     "output_type": "display_data"
    },
    {
     "data": {
      "text/plain": [
       "<ggplot: (333437717)>"
      ]
     },
     "execution_count": 44,
     "metadata": {},
     "output_type": "execute_result"
    }
   ],
   "source": [
    "(\n",
    "    ggplot(clu_calc)\n",
    "    + geom_boxplot(aes(x='factor(label)', y='SpendScr'),\n",
    "                  varwidth = True,\n",
    "                  show_legend = True)\n",
    "    + labs(x=\"Cluster Number\", y=\"Spend Score\")\n",
    "\n",
    ")\n",
    "\n",
    "# cluster 2 is most attractive by spend score"
   ]
  },
  {
   "cell_type": "code",
   "execution_count": 45,
   "id": "943dff4a",
   "metadata": {},
   "outputs": [
    {
     "data": {
      "image/png": "[encoded data removed]",
      "text/plain": [
       "<Figure size 640x480 with 1 Axes>"
      ]
     },
     "metadata": {},
     "output_type": "display_data"
    },
    {
     "data": {
      "text/plain": [
       "<ggplot: (333330989)>"
      ]
     },
     "execution_count": 45,
     "metadata": {},
     "output_type": "execute_result"
    }
   ],
   "source": [
    "(\n",
    "    ggplot(clu_calc)\n",
    "    + geom_boxplot(aes(x='factor(label)', y='Age'),\n",
    "                  varwidth = True,\n",
    "                  show_legend = True)\n",
    "    + labs(x=\"Cluster Number\", y=\"Age\")\n",
    "\n",
    ")"
   ]
  },
  {
   "cell_type": "code",
   "execution_count": 46,
   "id": "12d88801",
   "metadata": {},
   "outputs": [
    {
     "data": {
      "image/png": "[encoded data removed]",
      "text/plain": [
       "<Figure size 640x480 with 1 Axes>"
      ]
     },
     "metadata": {},
     "output_type": "display_data"
    },
    {
     "data": {
      "text/plain": [
       "<ggplot: (333495817)>"
      ]
     },
     "execution_count": 46,
     "metadata": {},
     "output_type": "execute_result"
    }
   ],
   "source": [
    "(\n",
    "    ggplot(clu_calc)\n",
    "    + geom_boxplot(aes(x='factor(label)', y='Inc'),\n",
    "                  varwidth = True,\n",
    "                  show_legend = True)\n",
    "    + labs(x=\"Cluster Number\", y=\"Income\")\n",
    "\n",
    ")"
   ]
  },
  {
   "cell_type": "code",
   "execution_count": 47,
   "id": "cc740a4f",
   "metadata": {},
   "outputs": [],
   "source": [
    "clu_calc.to_csv('clu_calc.csv', index = False)"
   ]
  },
  {
   "cell_type": "code",
   "execution_count": 48,
   "id": "8b63ffb9",
   "metadata": {},
   "outputs": [
    {
     "data": {
      "text/html": [
       "<div>\n",
       "<style scoped>\n",
       "    .dataframe tbody tr th:only-of-type {\n",
       "        vertical-align: middle;\n",
       "    }\n",
       "\n",
       "    .dataframe tbody tr th {\n",
       "        vertical-align: top;\n",
       "    }\n",
       "\n",
       "    .dataframe thead th {\n",
       "        text-align: right;\n",
       "    }\n",
       "</style>\n",
       "<table border=\"1\" class=\"dataframe\">\n",
       "  <thead>\n",
       "    <tr style=\"text-align: right;\">\n",
       "      <th></th>\n",
       "      <th>CustID</th>\n",
       "      <th>Gender</th>\n",
       "      <th>Age</th>\n",
       "      <th>Inc</th>\n",
       "      <th>SpendScr</th>\n",
       "      <th>label</th>\n",
       "    </tr>\n",
       "  </thead>\n",
       "  <tbody>\n",
       "    <tr>\n",
       "      <th>0</th>\n",
       "      <td>1</td>\n",
       "      <td>Male</td>\n",
       "      <td>19</td>\n",
       "      <td>15</td>\n",
       "      <td>39</td>\n",
       "      <td>2</td>\n",
       "    </tr>\n",
       "    <tr>\n",
       "      <th>1</th>\n",
       "      <td>2</td>\n",
       "      <td>Male</td>\n",
       "      <td>21</td>\n",
       "      <td>15</td>\n",
       "      <td>81</td>\n",
       "      <td>2</td>\n",
       "    </tr>\n",
       "    <tr>\n",
       "      <th>2</th>\n",
       "      <td>3</td>\n",
       "      <td>Female</td>\n",
       "      <td>20</td>\n",
       "      <td>16</td>\n",
       "      <td>6</td>\n",
       "      <td>2</td>\n",
       "    </tr>\n",
       "    <tr>\n",
       "      <th>3</th>\n",
       "      <td>4</td>\n",
       "      <td>Female</td>\n",
       "      <td>23</td>\n",
       "      <td>16</td>\n",
       "      <td>77</td>\n",
       "      <td>2</td>\n",
       "    </tr>\n",
       "    <tr>\n",
       "      <th>4</th>\n",
       "      <td>5</td>\n",
       "      <td>Female</td>\n",
       "      <td>31</td>\n",
       "      <td>17</td>\n",
       "      <td>40</td>\n",
       "      <td>2</td>\n",
       "    </tr>\n",
       "    <tr>\n",
       "      <th>...</th>\n",
       "      <td>...</td>\n",
       "      <td>...</td>\n",
       "      <td>...</td>\n",
       "      <td>...</td>\n",
       "      <td>...</td>\n",
       "      <td>...</td>\n",
       "    </tr>\n",
       "    <tr>\n",
       "      <th>195</th>\n",
       "      <td>196</td>\n",
       "      <td>Female</td>\n",
       "      <td>35</td>\n",
       "      <td>120</td>\n",
       "      <td>79</td>\n",
       "      <td>1</td>\n",
       "    </tr>\n",
       "    <tr>\n",
       "      <th>196</th>\n",
       "      <td>197</td>\n",
       "      <td>Female</td>\n",
       "      <td>45</td>\n",
       "      <td>126</td>\n",
       "      <td>28</td>\n",
       "      <td>3</td>\n",
       "    </tr>\n",
       "    <tr>\n",
       "      <th>197</th>\n",
       "      <td>198</td>\n",
       "      <td>Male</td>\n",
       "      <td>32</td>\n",
       "      <td>126</td>\n",
       "      <td>74</td>\n",
       "      <td>1</td>\n",
       "    </tr>\n",
       "    <tr>\n",
       "      <th>198</th>\n",
       "      <td>199</td>\n",
       "      <td>Male</td>\n",
       "      <td>32</td>\n",
       "      <td>137</td>\n",
       "      <td>18</td>\n",
       "      <td>3</td>\n",
       "    </tr>\n",
       "    <tr>\n",
       "      <th>199</th>\n",
       "      <td>200</td>\n",
       "      <td>Male</td>\n",
       "      <td>30</td>\n",
       "      <td>137</td>\n",
       "      <td>83</td>\n",
       "      <td>1</td>\n",
       "    </tr>\n",
       "  </tbody>\n",
       "</table>\n",
       "<p>200 rows × 6 columns</p>\n",
       "</div>"
      ],
      "text/plain": [
       "     CustID  Gender  Age  Inc  SpendScr  label\n",
       "0         1    Male   19   15        39      2\n",
       "1         2    Male   21   15        81      2\n",
       "2         3  Female   20   16         6      2\n",
       "3         4  Female   23   16        77      2\n",
       "4         5  Female   31   17        40      2\n",
       "..      ...     ...  ...  ...       ...    ...\n",
       "195     196  Female   35  120        79      1\n",
       "196     197  Female   45  126        28      3\n",
       "197     198    Male   32  126        74      1\n",
       "198     199    Male   32  137        18      3\n",
       "199     200    Male   30  137        83      1\n",
       "\n",
       "[200 rows x 6 columns]"
      ]
     },
     "execution_count": 48,
     "metadata": {},
     "output_type": "execute_result"
    }
   ],
   "source": [
    "mydata = pd.DataFrame(clu_calc)\n",
    "mydata"
   ]
  },
  {
   "cell_type": "code",
   "execution_count": 49,
   "id": "d6cd092e",
   "metadata": {},
   "outputs": [],
   "source": [
    "# create a filter using the label column\n",
    "label = mydata['label']"
   ]
  },
  {
   "cell_type": "code",
   "execution_count": 50,
   "id": "eaab7160",
   "metadata": {},
   "outputs": [
    {
     "data": {
      "text/html": [
       "<div>\n",
       "<style scoped>\n",
       "    .dataframe tbody tr th:only-of-type {\n",
       "        vertical-align: middle;\n",
       "    }\n",
       "\n",
       "    .dataframe tbody tr th {\n",
       "        vertical-align: top;\n",
       "    }\n",
       "\n",
       "    .dataframe thead th {\n",
       "        text-align: right;\n",
       "    }\n",
       "</style>\n",
       "<table border=\"1\" class=\"dataframe\">\n",
       "  <thead>\n",
       "    <tr style=\"text-align: right;\">\n",
       "      <th></th>\n",
       "      <th>CustID</th>\n",
       "      <th>Gender</th>\n",
       "      <th>Age</th>\n",
       "      <th>Inc</th>\n",
       "      <th>SpendScr</th>\n",
       "      <th>label</th>\n",
       "    </tr>\n",
       "  </thead>\n",
       "  <tbody>\n",
       "    <tr>\n",
       "      <th>6</th>\n",
       "      <td>7</td>\n",
       "      <td>Female</td>\n",
       "      <td>35</td>\n",
       "      <td>18</td>\n",
       "      <td>6</td>\n",
       "      <td>0</td>\n",
       "    </tr>\n",
       "    <tr>\n",
       "      <th>8</th>\n",
       "      <td>9</td>\n",
       "      <td>Male</td>\n",
       "      <td>64</td>\n",
       "      <td>19</td>\n",
       "      <td>3</td>\n",
       "      <td>0</td>\n",
       "    </tr>\n",
       "    <tr>\n",
       "      <th>10</th>\n",
       "      <td>11</td>\n",
       "      <td>Male</td>\n",
       "      <td>67</td>\n",
       "      <td>19</td>\n",
       "      <td>14</td>\n",
       "      <td>0</td>\n",
       "    </tr>\n",
       "    <tr>\n",
       "      <th>12</th>\n",
       "      <td>13</td>\n",
       "      <td>Female</td>\n",
       "      <td>58</td>\n",
       "      <td>20</td>\n",
       "      <td>15</td>\n",
       "      <td>0</td>\n",
       "    </tr>\n",
       "    <tr>\n",
       "      <th>14</th>\n",
       "      <td>15</td>\n",
       "      <td>Male</td>\n",
       "      <td>37</td>\n",
       "      <td>20</td>\n",
       "      <td>13</td>\n",
       "      <td>0</td>\n",
       "    </tr>\n",
       "  </tbody>\n",
       "</table>\n",
       "</div>"
      ],
      "text/plain": [
       "    CustID  Gender  Age  Inc  SpendScr  label\n",
       "6        7  Female   35   18         6      0\n",
       "8        9    Male   64   19         3      0\n",
       "10      11    Male   67   19        14      0\n",
       "12      13  Female   58   20        15      0\n",
       "14      15    Male   37   20        13      0"
      ]
     },
     "execution_count": 50,
     "metadata": {},
     "output_type": "execute_result"
    }
   ],
   "source": [
    "# illustrate the filter using the label variable\n",
    "label_0 = mydata[label==0]\n",
    "label_0.head()"
   ]
  },
  {
   "cell_type": "code",
   "execution_count": 51,
   "id": "a59e9621",
   "metadata": {},
   "outputs": [],
   "source": [
    "# create the other clusters based on the filter match\n",
    "label_1 = mydata[label==1]\n",
    "label_2 = mydata[label==2]\n",
    "label_3 = mydata[label==3]"
   ]
  },
  {
   "cell_type": "code",
   "execution_count": 52,
   "id": "ee834962",
   "metadata": {},
   "outputs": [
    {
     "data": {
      "text/plain": [
       "Index(['CustID', 'Gender', 'Age', 'Inc', 'SpendScr', 'label'], dtype='object')"
      ]
     },
     "execution_count": 52,
     "metadata": {},
     "output_type": "execute_result"
    }
   ],
   "source": [
    "# create a vector of the column nmaes\n",
    "cols = label_0.columns\n",
    "cols"
   ]
  },
  {
   "cell_type": "code",
   "execution_count": 53,
   "id": "2e267ba3",
   "metadata": {},
   "outputs": [
    {
     "data": {
      "image/png": "[encoded data removed]",
      "text/plain": [
       "<Figure size 640x480 with 1 Axes>"
      ]
     },
     "metadata": {},
     "output_type": "display_data"
    }
   ],
   "source": [
    "# scatterplot of Age by Spend Score\n",
    "plt.scatter(label_0[cols[2]], label_0[cols[4]], color = 'red', label=\"Cluster 0\")\n",
    "plt.scatter(label_1[cols[2]], label_1[cols[4]], color = 'green', label = \"Cluster 1\")\n",
    "plt.scatter(label_2[cols[2]], label_2[cols[4]], color = 'orange', label = \"Cluster 2\")\n",
    "plt.scatter(label_3[cols[2]], label_3[cols[4]], color = 'black', label = \"Cluster 3\")\n",
    "plt.xlabel(\"Age\")\n",
    "plt.ylabel(\"Spend Score\")\n",
    "plt.title(\"Spending Score by Age\")\n",
    "plt.legend()\n",
    "plt.show()"
   ]
  },
  {
   "cell_type": "code",
   "execution_count": 54,
   "id": "aba18491",
   "metadata": {},
   "outputs": [
    {
     "data": {
      "image/png": "[encoded data removed]",
      "text/plain": [
       "<Figure size 640x480 with 1 Axes>"
      ]
     },
     "metadata": {},
     "output_type": "display_data"
    }
   ],
   "source": [
    "# scatterplot of Income by Spend Score\n",
    "plt.scatter(label_0[cols[3]], label_0[cols[4]], color = 'red', label=\"Cluster 0\")\n",
    "plt.scatter(label_1[cols[3]], label_1[cols[4]], color = 'green', label = \"Cluster 1\")\n",
    "plt.scatter(label_2[cols[3]], label_2[cols[4]], color = 'orange', label = \"Cluster 2\")\n",
    "plt.scatter(label_3[cols[3]], label_3[cols[4]], color = 'black', label = \"Cluster 3\")\n",
    "plt.xlabel(\"Income\")\n",
    "plt.ylabel(\"Spend Score\")\n",
    "plt.title(\"Spending Score by Income\")\n",
    "plt.legend()\n",
    "plt.show()"
   ]
  },
  {
   "cell_type": "code",
   "execution_count": 55,
   "id": "30b694fe",
   "metadata": {},
   "outputs": [
    {
     "data": {
      "text/html": [
       "<div>\n",
       "<style scoped>\n",
       "    .dataframe tbody tr th:only-of-type {\n",
       "        vertical-align: middle;\n",
       "    }\n",
       "\n",
       "    .dataframe tbody tr th {\n",
       "        vertical-align: top;\n",
       "    }\n",
       "\n",
       "    .dataframe thead th {\n",
       "        text-align: right;\n",
       "    }\n",
       "</style>\n",
       "<table border=\"1\" class=\"dataframe\">\n",
       "  <thead>\n",
       "    <tr style=\"text-align: right;\">\n",
       "      <th></th>\n",
       "      <th>CustID</th>\n",
       "      <th>Gender</th>\n",
       "      <th>Age</th>\n",
       "      <th>Inc</th>\n",
       "      <th>SpendScr</th>\n",
       "      <th>label</th>\n",
       "    </tr>\n",
       "  </thead>\n",
       "  <tbody>\n",
       "    <tr>\n",
       "      <th>0</th>\n",
       "      <td>1</td>\n",
       "      <td>Male</td>\n",
       "      <td>19</td>\n",
       "      <td>15</td>\n",
       "      <td>39</td>\n",
       "      <td>2</td>\n",
       "    </tr>\n",
       "    <tr>\n",
       "      <th>1</th>\n",
       "      <td>2</td>\n",
       "      <td>Male</td>\n",
       "      <td>21</td>\n",
       "      <td>15</td>\n",
       "      <td>81</td>\n",
       "      <td>2</td>\n",
       "    </tr>\n",
       "    <tr>\n",
       "      <th>2</th>\n",
       "      <td>3</td>\n",
       "      <td>Female</td>\n",
       "      <td>20</td>\n",
       "      <td>16</td>\n",
       "      <td>6</td>\n",
       "      <td>2</td>\n",
       "    </tr>\n",
       "    <tr>\n",
       "      <th>3</th>\n",
       "      <td>4</td>\n",
       "      <td>Female</td>\n",
       "      <td>23</td>\n",
       "      <td>16</td>\n",
       "      <td>77</td>\n",
       "      <td>2</td>\n",
       "    </tr>\n",
       "    <tr>\n",
       "      <th>4</th>\n",
       "      <td>5</td>\n",
       "      <td>Female</td>\n",
       "      <td>31</td>\n",
       "      <td>17</td>\n",
       "      <td>40</td>\n",
       "      <td>2</td>\n",
       "    </tr>\n",
       "  </tbody>\n",
       "</table>\n",
       "</div>"
      ],
      "text/plain": [
       "   CustID  Gender  Age  Inc  SpendScr  label\n",
       "0       1    Male   19   15        39      2\n",
       "1       2    Male   21   15        81      2\n",
       "2       3  Female   20   16         6      2\n",
       "3       4  Female   23   16        77      2\n",
       "4       5  Female   31   17        40      2"
      ]
     },
     "execution_count": 55,
     "metadata": {},
     "output_type": "execute_result"
    }
   ],
   "source": [
    "mydata.head()"
   ]
  },
  {
   "cell_type": "code",
   "execution_count": 56,
   "id": "877436e9",
   "metadata": {},
   "outputs": [],
   "source": [
    "# means by cluster\n",
    "age_mean = mydata.groupby(['label'])['Age'].mean()\n",
    "inc_mean = mydata.groupby(['label'])['Inc'].mean()\n",
    "spend_mean = mydata.groupby(['label'])['SpendScr'].mean()\n",
    "age_mean = pd.DataFrame(age_mean)\n",
    "inc_mean = pd.DataFrame(inc_mean)\n",
    "spend_mean = pd.DataFrame(spend_mean)"
   ]
  },
  {
   "cell_type": "code",
   "execution_count": 57,
   "id": "409d2109",
   "metadata": {},
   "outputs": [
    {
     "data": {
      "text/html": [
       "<div>\n",
       "<style scoped>\n",
       "    .dataframe tbody tr th:only-of-type {\n",
       "        vertical-align: middle;\n",
       "    }\n",
       "\n",
       "    .dataframe tbody tr th {\n",
       "        vertical-align: top;\n",
       "    }\n",
       "\n",
       "    .dataframe thead th {\n",
       "        text-align: right;\n",
       "    }\n",
       "</style>\n",
       "<table border=\"1\" class=\"dataframe\">\n",
       "  <thead>\n",
       "    <tr style=\"text-align: right;\">\n",
       "      <th></th>\n",
       "      <th>Age</th>\n",
       "      <th>Inc</th>\n",
       "      <th>SpendScr</th>\n",
       "    </tr>\n",
       "    <tr>\n",
       "      <th>label</th>\n",
       "      <th></th>\n",
       "      <th></th>\n",
       "      <th></th>\n",
       "    </tr>\n",
       "  </thead>\n",
       "  <tbody>\n",
       "    <tr>\n",
       "      <th>0</th>\n",
       "      <td>53.984615</td>\n",
       "      <td>47.707692</td>\n",
       "      <td>39.969231</td>\n",
       "    </tr>\n",
       "    <tr>\n",
       "      <th>1</th>\n",
       "      <td>32.875000</td>\n",
       "      <td>86.100000</td>\n",
       "      <td>81.525000</td>\n",
       "    </tr>\n",
       "    <tr>\n",
       "      <th>2</th>\n",
       "      <td>25.438596</td>\n",
       "      <td>40.000000</td>\n",
       "      <td>60.298246</td>\n",
       "    </tr>\n",
       "    <tr>\n",
       "      <th>3</th>\n",
       "      <td>39.368421</td>\n",
       "      <td>86.500000</td>\n",
       "      <td>19.578947</td>\n",
       "    </tr>\n",
       "  </tbody>\n",
       "</table>\n",
       "</div>"
      ],
      "text/plain": [
       "             Age        Inc   SpendScr\n",
       "label                                 \n",
       "0      53.984615  47.707692  39.969231\n",
       "1      32.875000  86.100000  81.525000\n",
       "2      25.438596  40.000000  60.298246\n",
       "3      39.368421  86.500000  19.578947"
      ]
     },
     "execution_count": 57,
     "metadata": {},
     "output_type": "execute_result"
    }
   ],
   "source": [
    "merged_df = pd.merge(age_mean,inc_mean, left_index=True, right_index=True)\n",
    "merged_df = pd.merge(merged_df,spend_mean, left_index=True, right_index=True)\n",
    "merged_df"
   ]
  },
  {
   "cell_type": "code",
   "execution_count": 58,
   "id": "05f9d197",
   "metadata": {},
   "outputs": [
    {
     "data": {
      "text/html": [
       "<div>\n",
       "<style scoped>\n",
       "    .dataframe tbody tr th:only-of-type {\n",
       "        vertical-align: middle;\n",
       "    }\n",
       "\n",
       "    .dataframe tbody tr th {\n",
       "        vertical-align: top;\n",
       "    }\n",
       "\n",
       "    .dataframe thead th {\n",
       "        text-align: right;\n",
       "    }\n",
       "</style>\n",
       "<table border=\"1\" class=\"dataframe\">\n",
       "  <thead>\n",
       "    <tr style=\"text-align: right;\">\n",
       "      <th></th>\n",
       "      <th>Cluster</th>\n",
       "      <th>Age</th>\n",
       "      <th>Inc</th>\n",
       "      <th>SpendScr</th>\n",
       "    </tr>\n",
       "  </thead>\n",
       "  <tbody>\n",
       "    <tr>\n",
       "      <th>0</th>\n",
       "      <td>0</td>\n",
       "      <td>53.984615</td>\n",
       "      <td>47.707692</td>\n",
       "      <td>39.969231</td>\n",
       "    </tr>\n",
       "    <tr>\n",
       "      <th>1</th>\n",
       "      <td>1</td>\n",
       "      <td>32.875000</td>\n",
       "      <td>86.100000</td>\n",
       "      <td>81.525000</td>\n",
       "    </tr>\n",
       "    <tr>\n",
       "      <th>2</th>\n",
       "      <td>2</td>\n",
       "      <td>25.438596</td>\n",
       "      <td>40.000000</td>\n",
       "      <td>60.298246</td>\n",
       "    </tr>\n",
       "    <tr>\n",
       "      <th>3</th>\n",
       "      <td>3</td>\n",
       "      <td>39.368421</td>\n",
       "      <td>86.500000</td>\n",
       "      <td>19.578947</td>\n",
       "    </tr>\n",
       "  </tbody>\n",
       "</table>\n",
       "</div>"
      ],
      "text/plain": [
       "   Cluster        Age        Inc   SpendScr\n",
       "0        0  53.984615  47.707692  39.969231\n",
       "1        1  32.875000  86.100000  81.525000\n",
       "2        2  25.438596  40.000000  60.298246\n",
       "3        3  39.368421  86.500000  19.578947"
      ]
     },
     "execution_count": 58,
     "metadata": {},
     "output_type": "execute_result"
    }
   ],
   "source": [
    "# turn the index into a column in the data frame\n",
    "# https://datatofish.com/index-to-column-pandas-dataframe/\n",
    "merged_df.reset_index(inplace=True)\n",
    "merged_df = merged_df.rename(columns = {'label':'Cluster'})\n",
    "merged_df.head()"
   ]
  },
  {
   "cell_type": "code",
   "execution_count": 59,
   "id": "c5bcb2bb",
   "metadata": {},
   "outputs": [
    {
     "data": {
      "image/png": "[encoded data removed]",
      "text/plain": [
       "<Figure size 640x480 with 1 Axes>"
      ]
     },
     "metadata": {},
     "output_type": "display_data"
    }
   ],
   "source": [
    "# scatterplot of Age by Spend Score\n",
    "plt.scatter(label_0[cols[2]], label_0[cols[4]], color = 'red', label=\"Cluster 0\")\n",
    "plt.scatter(label_1[cols[2]], label_1[cols[4]], color = 'green', label = \"Cluster 1\")\n",
    "plt.scatter(label_2[cols[2]], label_2[cols[4]], color = 'orange', label = \"Cluster 2\")\n",
    "plt.scatter(label_3[cols[2]], label_3[cols[4]], color = 'black', label = \"Cluster 3\")\n",
    "plt.scatter(merged_df[['Age']], merged_df[['SpendScr']], color='dodgerblue', label=\"Cluster Means\", s=100)\n",
    "plt.xlabel(\"Age\")\n",
    "plt.ylabel(\"Spend Score\")\n",
    "plt.title(\"Spending Score by Age\")\n",
    "plt.legend()\n",
    "plt.show()"
   ]
  },
  {
   "cell_type": "code",
   "execution_count": 60,
   "id": "17760735",
   "metadata": {},
   "outputs": [
    {
     "data": {
      "image/png": "[encoded data removed]",
      "text/plain": [
       "<Figure size 640x480 with 1 Axes>"
      ]
     },
     "metadata": {},
     "output_type": "display_data"
    }
   ],
   "source": [
    "# scatterplot of Income by Spend Score\n",
    "plt.scatter(label_0[cols[3]], label_0[cols[4]], color = 'red', label=\"Cluster 0\")\n",
    "plt.scatter(label_1[cols[3]], label_1[cols[4]], color = 'green', label = \"Cluster 1\")\n",
    "plt.scatter(label_2[cols[3]], label_2[cols[4]], color = 'orange', label = \"Cluster 2\")\n",
    "plt.scatter(label_3[cols[3]], label_3[cols[4]], color = 'black', label = \"Cluster 3\")\n",
    "plt.scatter(merged_df[['Inc']], merged_df[['SpendScr']], color='dodgerblue', label=\"Cluster Means\", s=200)\n",
    "plt.xlabel(\"Income\")\n",
    "plt.ylabel(\"Spend Score\")\n",
    "plt.title(\"Spending Score by Income\")\n",
    "plt.legend()\n",
    "plt.show()"
   ]
  }
 ],
 "metadata": {
  "kernelspec": {
   "display_name": "Python 3 (ipykernel)",
   "language": "python",
   "name": "python3"
  },
  "language_info": {
   "codemirror_mode": {
    "name": "ipython",
    "version": 3
   },
   "file_extension": ".py",
   "mimetype": "text/x-python",
   "name": "python",
   "nbconvert_exporter": "python",
   "pygments_lexer": "ipython3",
   "version": "3.11.0"
  }
 },
 "nbformat": 4,
 "nbformat_minor": 5
}
